{
 "cells": [
  {
   "cell_type": "markdown",
   "metadata": {},
   "source": [
    "# Module 2: Atomistic Machine Learning\n",
    "## Part 1: Invariance\n",
    "\n",
    "In this notebook, we illustrate the notion of invariance of descriptors with respect to operations in SO(3)"
   ]
  },
  {
   "cell_type": "markdown",
   "metadata": {},
   "source": [
    "### 1. Install and load python libraries"
   ]
  },
  {
   "cell_type": "code",
   "execution_count": null,
   "metadata": {},
   "outputs": [],
   "source": [
    "!pip install ase dscribe numpy"
   ]
  },
  {
   "cell_type": "code",
   "execution_count": null,
   "metadata": {},
   "outputs": [],
   "source": [
    "import numpy as np\n",
    "from ase import Atoms\n",
    "from ase.build import molecule\n",
    "from ase.visualize import view\n",
    "from dscribe.descriptors import CoulombMatrix"
   ]
  },
  {
   "cell_type": "markdown",
   "metadata": {},
   "source": [
    "### 2. Create molecule\n",
    "Choose a molecule"
   ]
  },
  {
   "cell_type": "code",
   "execution_count": null,
   "metadata": {},
   "outputs": [],
   "source": [
    "# Create molecule, for instance (CH4, CH3CH2NH2, H2COH ...)\n",
    "mymolecule = molecule(\"CH4\")\n",
    "Natoms=len(mymolecule)\n",
    "view(mymolecule, viewer='x3d')"
   ]
  },
  {
   "cell_type": "markdown",
   "metadata": {},
   "source": [
    "### 3. Define transformations"
   ]
  },
  {
   "cell_type": "code",
   "execution_count": null,
   "metadata": {},
   "outputs": [],
   "source": [
    "# Function to apply transformations\n",
    "def rotate_atoms(atoms, angle=90, axis='z'):\n",
    "    rotated = atoms.copy()\n",
    "    rotated.rotate(a=angle, v=axis, rotate_cell=False)\n",
    "    return rotated\n",
    "\n",
    "def translate_atoms(atoms, vector):\n",
    "    translated = atoms.copy()\n",
    "    translated.translate(vector)\n",
    "    return translated\n",
    "\n",
    "def permute_atoms(atoms, permutation):\n",
    "    positions = atoms.get_positions()[permutation]\n",
    "    symbols = np.array(atoms.get_chemical_symbols())[permutation]\n",
    "    return Atoms(symbols=symbols, positions=positions)\n",
    "\n",
    "mypermutation=np.random.permutation(Natoms)"
   ]
  },
  {
   "cell_type": "markdown",
   "metadata": {},
   "source": [
    "### 4. Compare atomic coordinates before and after transformations"
   ]
  },
  {
   "cell_type": "code",
   "execution_count": null,
   "metadata": {},
   "outputs": [],
   "source": [
    "# Raw atomic coordinates invariance checks\n",
    "coords_original = mymolecule.get_positions()\n",
    "\n",
    "rotated = rotate_atoms(mymolecule, 90, 'z')\n",
    "translated = translate_atoms(mymolecule, [5, 5, 5])\n",
    "permuted = permute_atoms(mymolecule, mypermutation)  # arbitrary valid permutation\n",
    "\n",
    "# Compare\n",
    "np.set_printoptions(precision=6, suppress=True, floatmode='fixed')\n",
    "print(\"Original Raw coordinates:\")\n",
    "print(coords_original)\n",
    "print(\"Rotated raw coordinates\")\n",
    "print(rotated.get_positions())\n",
    "print(\"Translated raw coordinates\")\n",
    "print(translated.get_positions())\n",
    "print(\"Permuted raw coordinates\")\n",
    "print(permuted.get_positions())"
   ]
  },
  {
   "cell_type": "markdown",
   "metadata": {},
   "source": [
    "- Are raw coordinates useful to characterize the atomistic configuration?"
   ]
  },
  {
   "cell_type": "markdown",
   "metadata": {},
   "source": [
    "### 4. Compare Coulomb matrices before and after transformations\n",
    "Coulomb matrices are defined as,\n",
    "$$\n",
    "C_{ij} = \n",
    "\\begin{cases}\n",
    "0.5 Z_i^{2.4} & \\text{if } i = j \\\\\n",
    "\\frac{Z_i Z_j}{\\| \\mathbf{R}_i - \\mathbf{R}_j \\|} & \\text{if } i \\neq j\n",
    "\\end{cases}\n",
    "$$\n",
    "where $Z_i$ and $Z_j$ are the atomic numbers, and $R_i$ and $R_j$ the atomic coordinates of atoms $i$ and $j$, respectively.\n",
    "More explicitly,\n",
    "\n",
    "$$\n",
    "\\mathbf{C} =\n",
    "\\begin{bmatrix}\n",
    "0.5 Z_1^{2.4} & \\frac{Z_1 Z_2}{\\| \\mathbf{R}_1 - \\mathbf{R}_2 \\|} & \\cdots \\\\\n",
    "\\frac{Z_2 Z_1}{\\| \\mathbf{R}_2 - \\mathbf{R}_1 \\|} & 0.5 Z_2^{2.4} & \\cdots \\\\\n",
    "\\vdots & \\vdots & \\ddots\n",
    "\\end{bmatrix}\n",
    "$$"
   ]
  },
  {
   "cell_type": "code",
   "execution_count": null,
   "metadata": {},
   "outputs": [],
   "source": [
    "# Coulomb matrix descriptor (sorted by norm for invariance)\n",
    "cm_desc = CoulombMatrix(n_atoms_max=Natoms, permutation=\"sorted_l2\")\n",
    "\n",
    "# Coulomb matrix calculations\n",
    "cm_original = cm_desc.create(mymolecule).reshape(Natoms,Natoms)\n",
    "cm_rotated = cm_desc.create(rotated).reshape(Natoms,Natoms)\n",
    "cm_translated = cm_desc.create(translated).reshape(Natoms,Natoms)\n",
    "cm_permuted = cm_desc.create(permuted).reshape(Natoms,Natoms)\n",
    "\n",
    "# Compare\n",
    "print(\"Original Coulomb matrix (sorted):\")\n",
    "print(cm_original)\n",
    "print(\"Rotated Coulomb matrix\")\n",
    "print(cm_rotated)\n",
    "print(\"Translated Coulomb matrix\")\n",
    "print(cm_translated)\n",
    "print(\"Permuted Coulomb matrix\")\n",
    "print(cm_permuted)"
   ]
  },
  {
   "cell_type": "markdown",
   "metadata": {},
   "source": [
    "### 5. Questions and discussion\n",
    "- Are Coulomb matrices useful to characterize the atomistic configuration?\n",
    "- What happens if you change:\n",
    "```\n",
    "cm_desc = CoulombMatrix(n_atoms_max=Natoms, permutation=\"sorted_l2\")\n",
    "```\n",
    "by,\n",
    "```\n",
    "cm_desc = CoulombMatrix(n_atoms_max=Natoms, permutation=\"random\",sigma=100)\n",
    "```\n",
    "Why?"
   ]
  },
  {
   "cell_type": "code",
   "execution_count": null,
   "metadata": {},
   "outputs": [],
   "source": []
  }
 ],
 "metadata": {
  "kernelspec": {
   "display_name": "Python 3 (ipykernel)",
   "language": "python",
   "name": "python3"
  },
  "language_info": {
   "codemirror_mode": {
    "name": "ipython",
    "version": 3
   },
   "file_extension": ".py",
   "mimetype": "text/x-python",
   "name": "python",
   "nbconvert_exporter": "python",
   "pygments_lexer": "ipython3",
   "version": "3.11.7"
  }
 },
 "nbformat": 4,
 "nbformat_minor": 4
}
