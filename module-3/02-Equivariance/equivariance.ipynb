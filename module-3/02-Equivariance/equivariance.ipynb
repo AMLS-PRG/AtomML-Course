{
 "cells": [
  {
   "cell_type": "markdown",
   "metadata": {},
   "source": [
    "# Module 2: Atomistic Machine Learning\n",
    "## Part 2: Equivariance\n",
    "\n",
    "In this notebook, we illustrate the notion of equivariance of quantities with respect to operations in SO(3)"
   ]
  },
  {
   "cell_type": "markdown",
   "metadata": {},
   "source": [
    "### 1. Install and load python libraries"
   ]
  },
  {
   "cell_type": "code",
   "execution_count": null,
   "metadata": {},
   "outputs": [],
   "source": [
    "!pip install ase dscribe numpy"
   ]
  },
  {
   "cell_type": "code",
   "execution_count": null,
   "metadata": {},
   "outputs": [],
   "source": [
    "import numpy as np\n",
    "from ase import Atoms\n",
    "from ase.build import molecule\n",
    "from ase.visualize import view\n",
    "from dscribe.descriptors import CoulombMatrix"
   ]
  },
  {
   "cell_type": "markdown",
   "metadata": {},
   "source": [
    "### 2. Create molecule\n",
    "Choose a molecule"
   ]
  },
  {
   "cell_type": "code",
   "execution_count": null,
   "metadata": {},
   "outputs": [],
   "source": [
    "# Create molecule, for instance (CH4, CH3CH2NH2, H2COH ...)\n",
    "mymolecule = molecule(\"CH4\")\n",
    "Natoms=len(mymolecule)\n",
    "view(mymolecule, viewer='x3d')"
   ]
  },
  {
   "cell_type": "markdown",
   "metadata": {},
   "source": [
    "### 3. Define transformations"
   ]
  },
  {
   "cell_type": "code",
   "execution_count": null,
   "metadata": {},
   "outputs": [],
   "source": [
    "# Function to apply transformations\n",
    "def rotate_atoms(atoms, angle=90, axis='z'):\n",
    "    rotated = atoms.copy()\n",
    "    rotated.rotate(a=angle, v=axis, rotate_cell=False)\n",
    "    return rotated\n",
    "\n",
    "def translate_atoms(atoms, vector):\n",
    "    translated = atoms.copy()\n",
    "    translated.translate(vector)\n",
    "    return translated\n",
    "\n",
    "def permute_atoms(atoms, permutation):\n",
    "    positions = atoms.get_positions()[permutation]\n",
    "    symbols = np.array(atoms.get_chemical_symbols())[permutation]\n",
    "    return Atoms(symbols=symbols, positions=positions)\n",
    "\n",
    "mypermutation=np.random.permutation(Natoms)"
   ]
  },
  {
   "cell_type": "markdown",
   "metadata": {},
   "source": [
    "### 4. Define appropriate formula for equivariant quantity\n",
    "The quantity,\n",
    "$$\n",
    "\\mathbf{v}_i (\\mathbf{R}) = \\sum_j f(|\\mathbf{r}_{ij}|) \\mathbf{r}_{ij} \n",
    "$$\n",
    "is equivariant with respect to rotations. This means that:\n",
    "$$\n",
    "\\mathcal{R} \\left( \\mathbf{v}_i(\\mathbf{R}) \\right ) =  \\mathbf{v}_i \\left( \\mathcal{R} \\left( \\mathbf{R} \\right ) \\right ) \n",
    "$$\n",
    "where $\\mathcal{R}$ is a rotation.\n",
    "\n",
    "We will use the Coulomb matrix elements $C_{ij}$ to define the quantity,\n",
    "$$\n",
    "\\mathbf{v}_i (\\mathbf{R}) = \\sum_j C_{ij} \\mathbf{r}_{ij} \n",
    "$$\n",
    "and test its equivariance."
   ]
  },
  {
   "cell_type": "code",
   "execution_count": null,
   "metadata": {},
   "outputs": [],
   "source": [
    "# Function to compute vector sum for each atom\n",
    "def compute_equivariant_vectors(atoms, C):\n",
    "    positions = atoms.get_positions()\n",
    "    vectors = np.zeros((len(atoms), 3))\n",
    "    for i in range(len(atoms)):\n",
    "        for j in range(len(atoms)):\n",
    "            if i != j:\n",
    "                rij = positions[j] - positions[i]\n",
    "                cij = C[i,j]\n",
    "                vectors[i] += rij * cij\n",
    "    return vectors"
   ]
  },
  {
   "cell_type": "markdown",
   "metadata": {},
   "source": [
    "### 5. Compare vector before and after transformations"
   ]
  },
  {
   "cell_type": "code",
   "execution_count": null,
   "metadata": {},
   "outputs": [],
   "source": [
    "np.set_printoptions(precision=6, suppress=True, floatmode='fixed')\n",
    "\n",
    "# Compute original vectors\n",
    "cm_desc = CoulombMatrix(n_atoms_max=Natoms, permutation=\"none\")\n",
    "C = cm_desc.create(mymolecule).reshape(Natoms,Natoms)\n",
    "vecs_original = compute_equivariant_vectors(mymolecule, C)\n",
    "\n",
    "# Rotate atoms and compute vectors again\n",
    "rotated = rotate_atoms(mymolecule, 90, 'z')\n",
    "C_rotated = cm_desc.create(rotated).reshape(Natoms,Natoms)\n",
    "vecs_atoms_rotated = compute_equivariant_vectors(rotated, C_rotated)\n",
    "\n",
    "# Rotate the original vectors\n",
    "symbols = ['H'] * Natoms\n",
    "vecs_original_ase = Atoms(symbols=symbols, positions=vecs_original)\n",
    "rotated = rotate_atoms(vecs_original_ase, 90, 'z')\n",
    "vecs_rotated=rotated.get_positions()\n",
    "\n",
    "print(\"Original vectors:\")\n",
    "print(vecs_original)\n",
    "print(\"Vectors with atoms rotated:\")\n",
    "print(vecs_atoms_rotated)\n",
    "print(\"Rotated vectors:\")\n",
    "print(vecs_rotated)"
   ]
  },
  {
   "cell_type": "markdown",
   "metadata": {},
   "source": [
    "Above, we are comparing the two sides of the equation,\n",
    "$$\n",
    "\\mathcal{R} \\left( \\mathbf{v}_i(\\mathbf{R}) \\right ) =  \\mathbf{v}_i \\left( \\mathcal{R} \\left( \\mathbf{R} \\right ) \\right ) \n",
    "$$"
   ]
  },
  {
   "cell_type": "markdown",
   "metadata": {},
   "source": [
    "### 6. Exercise\n",
    "Test equivariance for tensors"
   ]
  },
  {
   "cell_type": "code",
   "execution_count": null,
   "metadata": {},
   "outputs": [],
   "source": []
  }
 ],
 "metadata": {
  "kernelspec": {
   "display_name": "Python 3 (ipykernel)",
   "language": "python",
   "name": "python3"
  },
  "language_info": {
   "codemirror_mode": {
    "name": "ipython",
    "version": 3
   },
   "file_extension": ".py",
   "mimetype": "text/x-python",
   "name": "python",
   "nbconvert_exporter": "python",
   "pygments_lexer": "ipython3",
   "version": "3.11.7"
  }
 },
 "nbformat": 4,
 "nbformat_minor": 4
}
