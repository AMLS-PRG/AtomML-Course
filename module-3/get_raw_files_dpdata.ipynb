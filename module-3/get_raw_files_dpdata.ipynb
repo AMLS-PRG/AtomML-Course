{
  "cells": [
    {
      "cell_type": "code",
      "source": [
        "!rm -rf Course-Pablo\n",
        "!git clone https://github.com/Wanqi1996/Course-Pablo.git\n",
        "!pip install dpdata"
      ],
      "metadata": {
        "id": "EaHYsqjQW7pc"
      },
      "execution_count": null,
      "outputs": []
    },
    {
      "cell_type": "code",
      "source": [
        "import os\n",
        "\n",
        "folder_path = \"Course-Pablo/DIPC course on Atomistic Machine Learning/03-Lecture 3-May 20/QE\"\n",
        "print(os.listdir(folder_path))"
      ],
      "metadata": {
        "id": "Lq72JN27XCmn"
      },
      "execution_count": null,
      "outputs": []
    },
    {
      "cell_type": "code",
      "source": [
        "import os\n",
        "import dpdata\n",
        "\n",
        "# Set input and output directories\n",
        "input_dir = \"Course-Pablo/DIPC course on Atomistic Machine Learning/03-Lecture 3-May 20/QE\"  # Modify this to your actual input path\n",
        "base_output_dir = \"./\"                     # Directory to save DeepMD raw files\n",
        "threshold_size = 90000  # File size threshold (in bytes) to filter converged calculations\n",
        "\n",
        "# Automatically create a new directory: itaddXX\n",
        "index = 1\n",
        "while True:\n",
        "    output_dir = os.path.join(base_output_dir, f\"itadd{index:02d}\")\n",
        "    if not os.path.exists(output_dir):  # Find the first available directory name\n",
        "        os.makedirs(output_dir)\n",
        "        break\n",
        "    index += 1\n",
        "\n",
        "# Initialize an empty LabeledSystem dataset\n",
        "merged_system = dpdata.LabeledSystem()\n",
        "\n",
        "# Counter to keep track of successfully converted files\n",
        "converted_count = 0\n",
        "\n",
        "# Loop through all files in the input directory\n",
        "for filename in os.listdir(input_dir):\n",
        "    file_path = os.path.join(input_dir, filename)\n",
        "\n",
        "    # Process only pw-*.out files that are larger than the threshold (indicating convergence)\n",
        "    if filename.startswith(\"pw-\") and filename.endswith(\".out\") and os.path.getsize(file_path) > threshold_size:\n",
        "        try:\n",
        "            # Load QE calculation output\n",
        "            system = dpdata.LabeledSystem(file_path, fmt='qe/pw/scf')\n",
        "\n",
        "            # Append to the merged dataset\n",
        "            merged_system.append(system)\n",
        "\n",
        "            converted_count += 1\n",
        "            print(f\"Converted and added: {filename}\")\n",
        "        except Exception as e:\n",
        "            print(f\"Error processing {filename}: {e}\")\n",
        "\n",
        "# Save the merged dataset if any files were successfully converted\n",
        "if converted_count > 0:\n",
        "    merged_system.to_deepmd_npy(output_dir)\n",
        "    merged_system.to_deepmd_raw(output_dir)\n",
        "    print(f\"\\nMerged dataset saved to {output_dir}\")\n",
        "else:\n",
        "    print(\"\\nNo valid QE output files were converted.\")\n",
        "\n",
        "# Print final conversion summary\n",
        "print(f\"\\nConversion completed! Successfully merged {converted_count} files.\")\n"
      ],
      "metadata": {
        "id": "pVaDxyVqYSsY"
      },
      "execution_count": null,
      "outputs": []
    }
  ],
  "metadata": {
    "colab": {
      "name": "欢迎使用 Colab",
      "provenance": []
    },
    "kernelspec": {
      "display_name": "Python 3",
      "name": "python3"
    }
  },
  "nbformat": 4,
  "nbformat_minor": 0
}