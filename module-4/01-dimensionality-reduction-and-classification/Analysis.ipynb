{
 "cells": [
  {
   "cell_type": "markdown",
   "id": "fd67cbf5-35ef-4f6b-905b-6b5390d1599d",
   "metadata": {
    "id": "fd67cbf5-35ef-4f6b-905b-6b5390d1599d"
   },
   "source": [
    "# Module 3: Descriptors\n",
    "## Part 1: Dimensional reduction and classification\n",
    "\n",
    "In this notebook, we illustrate the use dimensional reduction and classification algorithms starting from descriptors"
   ]
  },
  {
   "cell_type": "markdown",
   "id": "d2321a44-1cb9-45ed-81ba-3698a350cb15",
   "metadata": {},
   "source": [
    "### 1. Install and load python libraries"
   ]
  },
  {
   "cell_type": "code",
   "execution_count": null,
   "id": "a3a6107a-8332-4497-9621-fe94089a05be",
   "metadata": {},
   "outputs": [],
   "source": [
    "!pip install numpy matplotlib ase scikit-learn"
   ]
  },
  {
   "cell_type": "code",
   "execution_count": null,
   "id": "b5a20969-3c4a-4f81-9e96-79e2ee5b197b",
   "metadata": {
    "id": "4b4a6adc"
   },
   "outputs": [],
   "source": [
    "import numpy as np\n",
    "import matplotlib.pyplot as plt\n",
    "import ase.io as aseio\n",
    "from ase.geometry.analysis import Analysis\n",
    "from ase.visualize import view\n",
    "from sklearn.manifold import TSNE"
   ]
  },
  {
   "cell_type": "code",
   "execution_count": null,
   "id": "44e676a8-73cb-46ff-a7e9-16e16e9f4593",
   "metadata": {
    "id": "4b4a6adc"
   },
   "outputs": [],
   "source": [
    "colors = plt.rcParams['axes.prop_cycle'].by_key()['color']\n",
    "!git clone https://github.com/AMLS-PRG/AtomML-Course\n",
    "modelpath='AtomML-Course/module-4/01-dimensionality-reduction-and-classification/model/frozen_model_1.pb'"
   ]
  },
  {
   "cell_type": "markdown",
   "id": "94d35b2d-0863-4aa2-8dc5-addcba4817be",
   "metadata": {
    "id": "94d35b2d-0863-4aa2-8dc5-addcba4817be"
   },
   "source": [
    "### 2. Visualize configurations"
   ]
  },
  {
   "cell_type": "markdown",
   "id": "73af2e78-e239-40b3-99c5-5d0a3b61e497",
   "metadata": {
    "id": "73af2e78-e239-40b3-99c5-5d0a3b61e497"
   },
   "source": [
    "Let's start with ice"
   ]
  },
  {
   "cell_type": "code",
   "execution_count": null,
   "id": "f13be280-1808-4ef1-b0a5-c1a1938d8a76",
   "metadata": {
    "colab": {
     "base_uri": "https://localhost:8080/",
     "height": 317
    },
    "id": "f13be280-1808-4ef1-b0a5-c1a1938d8a76",
    "outputId": "e2ab8237-9f1e-4159-e0f0-975285c84fee"
   },
   "outputs": [],
   "source": [
    "filename = \"AtomML-Course/module-4/01-dimensionality-reduction-and-classification/trajectories/ice.lammps-dump-text\"\n",
    "atoms = aseio.read(filename,format='lammps-dump-text',index=\"-1\")\n",
    "symbols=np.array(atoms.get_chemical_symbols())\n",
    "symbols[symbols=='Be']='O'\n",
    "symbols[symbols=='B']='H'\n",
    "atoms.set_chemical_symbols(symbols)\n",
    "view(atoms,viewer='x3d')"
   ]
  },
  {
   "cell_type": "markdown",
   "id": "6e81d6a9-7e5f-49a7-a44b-3a6896f45c27",
   "metadata": {
    "id": "6e81d6a9-7e5f-49a7-a44b-3a6896f45c27"
   },
   "source": [
    "Let's continue with liquid water"
   ]
  },
  {
   "cell_type": "code",
   "execution_count": null,
   "id": "6d5d3d27-68b8-4433-9344-9cf9e01736db",
   "metadata": {
    "colab": {
     "base_uri": "https://localhost:8080/",
     "height": 317
    },
    "id": "6d5d3d27-68b8-4433-9344-9cf9e01736db",
    "outputId": "a542ea94-7f34-4e7c-a651-cc5621918710"
   },
   "outputs": [],
   "source": [
    "filename = \"AtomML-Course/module-4/01-dimensionality-reduction-and-classification/trajectories/water.lammps-dump-text\"\n",
    "atoms = aseio.read(filename,format='lammps-dump-text',index=\"-1\")\n",
    "symbols=np.array(atoms.get_chemical_symbols())\n",
    "symbols[symbols=='Be']='O'\n",
    "symbols[symbols=='B']='H'\n",
    "atoms.set_chemical_symbols(symbols)\n",
    "view(atoms,viewer='x3d')"
   ]
  },
  {
   "cell_type": "markdown",
   "id": "51eeedab-2aa2-42c3-8595-1e858271c2ec",
   "metadata": {
    "id": "51eeedab-2aa2-42c3-8595-1e858271c2ec"
   },
   "source": [
    "Can you observe differences between the two structures? Which ones?"
   ]
  },
  {
   "cell_type": "markdown",
   "id": "d3e3304f-220c-4c3f-8d89-90ad8b2e9785",
   "metadata": {
    "id": "d3e3304f-220c-4c3f-8d89-90ad8b2e9785"
   },
   "source": [
    "### 3. Use ASE and DeePMD to compute descriptors from trajectories\n",
    "This section can be skipped and computed descriptors can be loaded directly. We start from a trajectory of a molecular dynamics simulation of water at around room temperature and atmospheric pressure. The simulation was carried out using a machine learning model for the interatomic interactions."
   ]
  },
  {
   "cell_type": "code",
   "execution_count": null,
   "id": "d3741877-f22f-4697-a5e7-70addee40aff",
   "metadata": {
    "id": "d3741877-f22f-4697-a5e7-70addee40aff"
   },
   "outputs": [],
   "source": [
    "# Install libraries to compute descriptors\n",
    "!pip install -q deepmd-kit[cpu] dpdata\n",
    "import dpdata\n",
    "from deepmd.calculator import DP\n",
    "from deepmd.infer import DeepPot"
   ]
  },
  {
   "cell_type": "code",
   "execution_count": null,
   "id": "ad459408-ba08-4e0a-9d6a-0e5e8b7dda11",
   "metadata": {
    "id": "ad459408-ba08-4e0a-9d6a-0e5e8b7dda11"
   },
   "outputs": [],
   "source": [
    "# Read file\n",
    "filename = \"AtomML-Course/module-4/01-dimensionality-reduction-and-classification/trajectories/ice.lammps-dump-text\"\n",
    "atoms = aseio.read(filename,format='lammps-dump-text',index=\"-1\")\n",
    "symbols=np.array(atoms.get_chemical_symbols())\n",
    "symbols[symbols=='Be']='O'\n",
    "symbols[symbols=='B']='H'\n",
    "atoms.set_chemical_symbols(symbols)\n",
    "atoms.calc = DP(model=modelpath)\n",
    "system = dpdata.LabeledSystem(atoms, fmt = 'ase/structure')\n",
    "dp = DeepPot(modelpath)\n",
    "d_ice = dp.eval_descriptor(system['coords'], system['cells'], system['atom_types'])[0]\n",
    "symbols_ice = atoms.get_chemical_symbols()"
   ]
  },
  {
   "cell_type": "code",
   "execution_count": null,
   "id": "6e0c2f8d-8c10-48ef-9f64-1df45b347daf",
   "metadata": {
    "id": "6e0c2f8d-8c10-48ef-9f64-1df45b347daf"
   },
   "outputs": [],
   "source": [
    "# Read file\n",
    "filename = \"AtomML-Course/module-4/01-dimensionality-reduction-and-classification/trajectories/water.lammps-dump-text\"\n",
    "atoms = aseio.read(filename,format='lammps-dump-text',index=\"-1\")\n",
    "symbols=np.array(atoms.get_chemical_symbols())\n",
    "symbols[symbols=='Be']='O'\n",
    "symbols[symbols=='B']='H'\n",
    "atoms.set_chemical_symbols(symbols)\n",
    "atoms.calc = DP(model=modelpath)\n",
    "system = dpdata.LabeledSystem(atoms, fmt = 'ase/structure')\n",
    "dp = DeepPot(modelpath)\n",
    "d_water = dp.eval_descriptor(system['coords'], system['cells'], system['atom_types'])[0]\n",
    "symbols_water = atoms.get_chemical_symbols()"
   ]
  },
  {
   "cell_type": "code",
   "execution_count": null,
   "id": "0d0a9366-2426-4541-bb00-c1d6b653ff84",
   "metadata": {
    "id": "0d0a9366-2426-4541-bb00-c1d6b653ff84"
   },
   "outputs": [],
   "source": [
    "step=2\n",
    "descr = np.concatenate((d_ice,d_water))[::step,:]\n",
    "\n",
    "phase_ice = np.zeros(d_ice.shape[0])\n",
    "phase_water = np.ones(d_water.shape[0])\n",
    "phase = np.concatenate((phase_ice,phase_water))[::step]\n",
    "\n",
    "symbols = np.concatenate((np.array(symbols_ice),np.array(symbols_water)))\n",
    "symbols[symbols==\"O\"]=0\n",
    "symbols[symbols==\"H\"]=1\n",
    "symbols = symbols.astype(\"float\")[::step]"
   ]
  },
  {
   "cell_type": "markdown",
   "id": "2e96c198-d16c-47d9-af41-66d376eaa5e8",
   "metadata": {
    "id": "2e96c198-d16c-47d9-af41-66d376eaa5e8"
   },
   "source": [
    "### 4. Perform dimensional reduction using t-SNE"
   ]
  },
  {
   "cell_type": "code",
   "execution_count": null,
   "id": "fe31a4c7-e119-40b0-8f11-cc8534ed27b1",
   "metadata": {
    "id": "fe31a4c7-e119-40b0-8f11-cc8534ed27b1"
   },
   "outputs": [],
   "source": [
    "# If you couldn't compute descriptors, load them here\n",
    "#descr = np.load(\"AtomML-Course/module-4/01-dimensionality-reduction-and-classification/results-descriptors/descriptors.npy\")\n",
    "#phase = np.load(\"AtomML-Course/module-4/01-dimensionality-reduction-and-classification/results-descriptors/phase.npy\") # 0 is ice, 1 is liquid water\n",
    "#symbols = np.load(\"AtomML-Course/module-4/01-dimensionality-reduction-and-classification/results-descriptors/symbols.npy\") # 0 is oxygen, 1 is hydrogen"
   ]
  },
  {
   "cell_type": "code",
   "execution_count": null,
   "id": "87cd0e4f-3858-4fc6-9f76-76f73e7534f5",
   "metadata": {
    "id": "87cd0e4f-3858-4fc6-9f76-76f73e7534f5"
   },
   "outputs": [],
   "source": [
    "my_tsne = TSNE(n_components=2, learning_rate='auto',\n",
    "                      init='random', perplexity=3)\n",
    "X_embedded = my_tsne.fit_transform(descr)"
   ]
  },
  {
   "cell_type": "code",
   "execution_count": null,
   "id": "0770011e-e692-4f56-9404-054c44657907",
   "metadata": {
    "colab": {
     "base_uri": "https://localhost:8080/",
     "height": 430
    },
    "id": "0770011e-e692-4f56-9404-054c44657907",
    "outputId": "555d1da3-05d4-4480-d92b-bf073f86ad5d"
   },
   "outputs": [],
   "source": [
    "plt.scatter(X_embedded[phase==0,0],X_embedded[phase==0,1],s=20,color=colors[0],label=\"Ice\")\n",
    "plt.scatter(X_embedded[phase==1,0],X_embedded[phase==1,1],s=20,color=colors[1],label=\"Water\")\n",
    "plt.legend()\n",
    "plt.show()"
   ]
  },
  {
   "cell_type": "markdown",
   "id": "6b95cf83-d6fb-472a-9dd7-1f05ab8ecbae",
   "metadata": {
    "id": "6b95cf83-d6fb-472a-9dd7-1f05ab8ecbae"
   },
   "source": [
    "### EXERCISE:\n",
    "Repeat plot above coloring the dots using the chemical elements, i.e., the ```symbols```"
   ]
  },
  {
   "cell_type": "code",
   "execution_count": null,
   "id": "4312e004-9c68-404b-bca6-c4f9bf8d474a",
   "metadata": {
    "id": "4312e004-9c68-404b-bca6-c4f9bf8d474a"
   },
   "outputs": [],
   "source": [
    "#plt.scatter(...,s=20,color=colors[0],label=\"Oxygen\")\n",
    "#plt.scatter(...,s=20,color=colors[1],label=\"Hydrogen\")\n",
    "#plt.legend()\n",
    "\n",
    "#plt.show()"
   ]
  },
  {
   "cell_type": "markdown",
   "id": "25b7a236-ee3d-4b9d-ab06-d2806409c86a",
   "metadata": {
    "id": "25b7a236-ee3d-4b9d-ab06-d2806409c86a"
   },
   "source": [
    "Below we color both using the element and the phase"
   ]
  },
  {
   "cell_type": "code",
   "execution_count": null,
   "id": "c0a7297c-769e-483e-87a5-45162cf2bbc9",
   "metadata": {
    "colab": {
     "base_uri": "https://localhost:8080/",
     "height": 430
    },
    "id": "c0a7297c-769e-483e-87a5-45162cf2bbc9",
    "outputId": "62b3caa3-1b2a-4e02-acd6-f06c6a14cd43"
   },
   "outputs": [],
   "source": [
    "plt.scatter(X_embedded[np.logical_and(symbols==0,phase==0),0],X_embedded[np.logical_and(symbols==0,phase==0),1],s=20,color=colors[0],label=\"Oxygen in ice\")\n",
    "plt.scatter(X_embedded[np.logical_and(symbols==0,phase==1),0],X_embedded[np.logical_and(symbols==0,phase==1),1],s=20,color=colors[1],label=\"Oxygen in water\")\n",
    "plt.scatter(X_embedded[np.logical_and(symbols==1,phase==0),0],X_embedded[np.logical_and(symbols==1,phase==0),1],s=20,color=colors[2],label=\"Hydrogen in ice\")\n",
    "plt.scatter(X_embedded[np.logical_and(symbols==1,phase==1),0],X_embedded[np.logical_and(symbols==1,phase==1),1],s=20,color=colors[3],label=\"Hydrogen in water\")\n",
    "plt.legend()\n",
    "\n",
    "plt.show()"
   ]
  },
  {
   "cell_type": "markdown",
   "id": "caf7b80e-7cb6-467b-becf-af3ecf8b9e63",
   "metadata": {
    "id": "caf7b80e-7cb6-467b-becf-af3ecf8b9e63"
   },
   "source": [
    "### 6. Train classifiers to distinguish between water and ice environments"
   ]
  },
  {
   "cell_type": "code",
   "execution_count": null,
   "id": "533c27b7",
   "metadata": {
    "id": "533c27b7"
   },
   "outputs": [],
   "source": [
    "from sklearn import tree\n",
    "from sklearn.model_selection import train_test_split\n",
    "\n",
    "X_train, X_test, y_train, y_test = train_test_split(\n",
    "    descr, phase, test_size=0.1, random_state=42)\n",
    "clf = tree.DecisionTreeClassifier()\n",
    "clf = clf.fit(X_train, y_train)"
   ]
  },
  {
   "cell_type": "code",
   "execution_count": null,
   "id": "30d928a6-4f46-490e-95bc-5d041d8b2ac8",
   "metadata": {
    "colab": {
     "base_uri": "https://localhost:8080/"
    },
    "id": "30d928a6-4f46-490e-95bc-5d041d8b2ac8",
    "outputId": "1705f594-1c7d-44b6-a1a5-245342ffec0e"
   },
   "outputs": [],
   "source": [
    "print(clf.predict(X_test)==y_test)"
   ]
  },
  {
   "cell_type": "markdown",
   "id": "fa0faad1-fd6f-4835-b314-4fb96bd7630e",
   "metadata": {
    "id": "fa0faad1-fd6f-4835-b314-4fb96bd7630e"
   },
   "source": [
    "Does the algorithm correctly classify water and ice environments?"
   ]
  },
  {
   "cell_type": "markdown",
   "id": "912d4993-23ff-4a7d-81b4-34fafc40db17",
   "metadata": {
    "id": "912d4993-23ff-4a7d-81b4-34fafc40db17"
   },
   "source": [
    "## EXERCISE\n",
    "Train a classification model using a multi-layer perceptron. Test the algorithm and compare."
   ]
  },
  {
   "cell_type": "code",
   "execution_count": null,
   "id": "93a26860-d0c1-457d-b81d-817e0e62f245",
   "metadata": {
    "colab": {
     "base_uri": "https://localhost:8080/"
    },
    "id": "93a26860-d0c1-457d-b81d-817e0e62f245",
    "outputId": "00ad7a54-83e7-47f5-cfaf-9235c29f2ca8"
   },
   "outputs": [],
   "source": [
    "from sklearn.neural_network import MLPClassifier\n",
    "\n",
    "clf = MLPClassifier(solver='lbfgs', hidden_layer_sizes=(50, 25), random_state=1, max_iter=1000)\n",
    "..."
   ]
  },
  {
   "cell_type": "code",
   "execution_count": null,
   "id": "174c30cc-ed27-45c0-bee4-1e12b59f4f21",
   "metadata": {
    "id": "174c30cc-ed27-45c0-bee4-1e12b59f4f21"
   },
   "outputs": [],
   "source": []
  }
 ],
 "metadata": {
  "colab": {
   "provenance": []
  },
  "kernelspec": {
   "display_name": "Python 3 (ipykernel)",
   "language": "python",
   "name": "python3"
  },
  "language_info": {
   "codemirror_mode": {
    "name": "ipython",
    "version": 3
   },
   "file_extension": ".py",
   "mimetype": "text/x-python",
   "name": "python",
   "nbconvert_exporter": "python",
   "pygments_lexer": "ipython3",
   "version": "3.11.7"
  }
 },
 "nbformat": 4,
 "nbformat_minor": 5
}
