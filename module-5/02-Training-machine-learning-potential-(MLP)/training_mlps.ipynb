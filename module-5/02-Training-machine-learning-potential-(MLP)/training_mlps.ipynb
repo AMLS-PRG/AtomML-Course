{
  "nbformat": 4,
  "nbformat_minor": 0,
  "metadata": {
    "colab": {
      "provenance": []
    },
    "kernelspec": {
      "name": "python3",
      "display_name": "Python 3"
    },
    "language_info": {
      "name": "python"
    }
  },
  "cells": [
    {
      "cell_type": "code",
      "execution_count": null,
      "metadata": {
        "colab": {
          "base_uri": "https://localhost:8080/"
        },
        "collapsed": true,
        "id": "GpPMlvJufNS_",
        "outputId": "5a77f4dc-19b3-4514-a973-f91ac1ddf2dc"
      },
      "outputs": [
        {
          "output_type": "stream",
          "name": "stdout",
          "text": [
            "Cloning into 'AtomML-Course'...\n",
            "remote: Enumerating objects: 847, done.\u001b[K\n",
            "remote: Counting objects: 100% (847/847), done.\u001b[K\n",
            "remote: Compressing objects: 100% (708/708), done.\u001b[K\n",
            "remote: Total 847 (delta 318), reused 349 (delta 96), pack-reused 0 (from 0)\u001b[K\n",
            "Receiving objects: 100% (847/847), 27.65 MiB | 27.41 MiB/s, done.\n",
            "Resolving deltas: 100% (318/318), done.\n"
          ]
        }
      ],
      "source": [
        "!git clone https://github.com/AMLS-PRG/AtomML-Course"
      ]
    },
    {
      "cell_type": "code",
      "source": [
        "!pip install -q condacolab\n",
        "import condacolab\n",
        "condacolab.install()\n",
        "!conda install -c deepmodeling deepmd-kit -y"
      ],
      "metadata": {
        "colab": {
          "base_uri": "https://localhost:8080/"
        },
        "collapsed": true,
        "id": "PMRQp_DhfP7j",
        "outputId": "6bf11c44-38d1-4432-f692-77fc4f402cbf"
      },
      "execution_count": null,
      "outputs": [
        {
          "output_type": "stream",
          "name": "stdout",
          "text": [
            "✨🍰✨ Everything looks OK!\n",
            "Channels:\n",
            " - deepmodeling\n",
            " - conda-forge\n",
            "Platform: linux-64\n",
            "Collecting package metadata (repodata.json): - \b\b\\ \b\b| \b\b/ \b\b- \b\b\\ \b\b| \b\b/ \b\b- \b\b\\ \b\b| \b\b/ \b\b- \b\b\\ \b\b| \b\b/ \b\b- \b\bdone\n",
            "Solving environment: | \b\b/ \b\b- \b\b\\ \b\b| \b\b/ \b\bdone\n",
            "\n",
            "\n",
            "==> WARNING: A newer version of conda exists. <==\n",
            "    current version: 24.11.3\n",
            "    latest version: 25.5.0\n",
            "\n",
            "Please update conda by running\n",
            "\n",
            "    $ conda update -n base -c conda-forge conda\n",
            "\n",
            "\n",
            "\n",
            "# All requested packages already installed.\n",
            "\n"
          ]
        }
      ]
    },
    {
      "cell_type": "code",
      "source": [
        "%cd \"AtomML-Course/module-5/02-Training-machine-learning-potential-(MLP)/\"\n",
        "!dp train input.json\n"
      ],
      "metadata": {
        "colab": {
          "base_uri": "https://localhost:8080/"
        },
        "collapsed": true,
        "id": "1cqehoIqfxGv",
        "outputId": "0a3b6f85-d035-4cf9-8836-498d945bdceb"
      },
      "execution_count": null,
      "outputs": [
        {
          "output_type": "stream",
          "name": "stdout",
          "text": [
            "/content/AtomML-Course/module-5/02-Training machine learning potential (MLPs)/AtomML-Course/module-5/02-Training machine learning potential (MLPs)\n",
            "2025-05-29 19:41:20.840274: I tensorflow/core/platform/cpu_feature_guard.cc:210] This TensorFlow binary is optimized to use available CPU instructions in performance-critical operations.\n",
            "To enable the following instructions: SSE4.1 SSE4.2 AVX AVX2 FMA, in other operations, rebuild TensorFlow with the appropriate compiler flags.\n",
            "To get the best performance, it is recommended to adjust the number of threads by setting the environment variables OMP_NUM_THREADS, DP_INTRA_OP_PARALLELISM_THREADS, and DP_INTER_OP_PARALLELISM_THREADS. See https://deepmd.rtfd.io/parallelism/ for more information.\n",
            "Switch to serial execution due to lack of horovod module.\n",
            "/usr/local/lib/python3.11/site-packages/deepmd/utils/compat.py:364: UserWarning: The argument training->numb_test has been deprecated since v2.0.0. Use training->validation_data->batch_size instead.\n",
            "  warnings.warn(\n",
            "[2025-05-29 19:41:24,094] DEEPMD INFO    Calculate neighbor statistics... (add --skip-neighbor-stat to skip this step)\n",
            "[2025-05-29 19:41:24,127] DEEPMD WARNING You can use the environment variable DP_INFER_BATCH_SIZE tocontrol the inference batch size (nframes * natoms). The default value is 1024.\n",
            "WARNING: All log messages before absl::InitializeLog() is called are written to STDERR\n",
            "I0000 00:00:1748547684.301226    4810 mlir_graph_optimization_pass.cc:401] MLIR V1 optimization pass is not enabled\n",
            "[2025-05-29 19:41:27,097] DEEPMD INFO    Neighbor statistics: training data with minimal neighbor distance: 1.532982\n",
            "[2025-05-29 19:41:27,098] DEEPMD INFO    Neighbor statistics: training data with maximum neighbor size: [56] (cutoff radius: 6.000000)\n",
            "[2025-05-29 19:41:27,099] DEEPMD WARNING sel of type 0 is not enough! The expected value is not less than 56, but you set it to 30. The accuracy of your model may get worse.\n",
            "[2025-05-29 19:41:27,102] DEEPMD INFO     _____               _____   __  __  _____           _     _  _   \n",
            "[2025-05-29 19:41:27,102] DEEPMD INFO    |  __ \\             |  __ \\ |  \\/  ||  __ \\         | |   (_)| |  \n",
            "[2025-05-29 19:41:27,102] DEEPMD INFO    | |  | |  ___   ___ | |__) || \\  / || |  | | ______ | | __ _ | |_ \n",
            "[2025-05-29 19:41:27,102] DEEPMD INFO    | |  | | / _ \\ / _ \\|  ___/ | |\\/| || |  | ||______|| |/ /| || __|\n",
            "[2025-05-29 19:41:27,102] DEEPMD INFO    | |__| ||  __/|  __/| |     | |  | || |__| |        |   < | || |_ \n",
            "[2025-05-29 19:41:27,102] DEEPMD INFO    |_____/  \\___| \\___||_|     |_|  |_||_____/         |_|\\_\\|_| \\__|\n",
            "[2025-05-29 19:41:27,102] DEEPMD INFO    Please read and cite:\n",
            "[2025-05-29 19:41:27,102] DEEPMD INFO    Wang, Zhang, Han and E, Comput.Phys.Comm. 228, 178-184 (2018)\n",
            "[2025-05-29 19:41:27,102] DEEPMD INFO    Zeng et al, J. Chem. Phys., 159, 054801 (2023)\n",
            "[2025-05-29 19:41:27,102] DEEPMD INFO    Zeng et al, arxiv:2502.19161\n",
            "[2025-05-29 19:41:27,102] DEEPMD INFO    See https://deepmd.rtfd.io/credits/ for details.\n",
            "[2025-05-29 19:41:27,102] DEEPMD INFO    -----------------------------------------------------------------------------------------\n",
            "[2025-05-29 19:41:27,102] DEEPMD INFO    installed to:      /usr/local/lib/python3.11/site-packages/deepmd\n",
            "[2025-05-29 19:41:27,102] DEEPMD INFO    source:            \n",
            "[2025-05-29 19:41:27,102] DEEPMD INFO    source branch:     HEAD\n",
            "[2025-05-29 19:41:27,102] DEEPMD INFO    source commit:     d8dccd5\n",
            "[2025-05-29 19:41:27,102] DEEPMD INFO    source commit at:  2025-05-24 16:39:43 +0800\n",
            "[2025-05-29 19:41:27,102] DEEPMD INFO    use float prec:    double\n",
            "[2025-05-29 19:41:27,102] DEEPMD INFO    build variant:     cpu\n",
            "[2025-05-29 19:41:27,103] DEEPMD INFO    Backend:           TensorFlow\n",
            "[2025-05-29 19:41:27,103] DEEPMD INFO    TF ver:            unknown\n",
            "[2025-05-29 19:41:27,103] DEEPMD INFO    build with TF ver: 2.18.0\n",
            "[2025-05-29 19:41:27,103] DEEPMD INFO    build with TF inc: /usr/local/lib/python3.11/site-packages/tensorflow/include\n",
            "[2025-05-29 19:41:27,103] DEEPMD INFO                       /usr/local/lib/python3.11/site-packages/tensorflow/../../../../include\n",
            "[2025-05-29 19:41:27,103] DEEPMD INFO    build with TF lib: \n",
            "[2025-05-29 19:41:27,103] DEEPMD INFO    running on:        cfe9783be5b8\n",
            "[2025-05-29 19:41:27,103] DEEPMD INFO    computing device:  cpu:0\n",
            "[2025-05-29 19:41:27,103] DEEPMD INFO    num_intra_threads: 0\n",
            "[2025-05-29 19:41:27,103] DEEPMD INFO    num_inter_threads: 0\n",
            "[2025-05-29 19:41:27,103] DEEPMD INFO    -----------------------------------------------------------------------------------------\n",
            "[2025-05-29 19:41:27,119] DEEPMD INFO    ---Summary of DataSystem: training     -----------------------------------------------\n",
            "[2025-05-29 19:41:27,119] DEEPMD INFO    found 6 system(s):\n",
            "[2025-05-29 19:41:27,119] DEEPMD INFO                                        system  natoms  bch_sz   n_bch       prob  pbc\n",
            "[2025-05-29 19:41:27,119] DEEPMD INFO    -- s)/dataset/perturbations-si-64/0.01A-1p      64       1     100  1.658e-01    T\n",
            "[2025-05-29 19:41:27,119] DEEPMD INFO    -- Ps)/dataset/perturbations-si-64/0.1A-3p      64       1     100  1.658e-01    T\n",
            "[2025-05-29 19:41:27,119] DEEPMD INFO    -- Ps)/dataset/perturbations-si-64/0.2A-5p      64       1     100  1.658e-01    T\n",
            "[2025-05-29 19:41:27,119] DEEPMD INFO    -- ctory-lammps-1700K-1bar/extracted-confs      64       1     101  1.675e-01    T\n",
            "[2025-05-29 19:41:27,119] DEEPMD INFO    -- y-lammps-1700K-10000bar/extracted-confs      64       1     101  1.675e-01    T\n",
            "[2025-05-29 19:41:27,119] DEEPMD INFO    -- ammps-1700K-neg10000bar/extracted-confs      64       1     101  1.675e-01    T\n",
            "[2025-05-29 19:41:27,119] DEEPMD INFO    --------------------------------------------------------------------------------------\n",
            "[2025-05-29 19:41:27,124] DEEPMD INFO    ---Summary of DataSystem: validation   -----------------------------------------------\n",
            "[2025-05-29 19:41:27,124] DEEPMD INFO    found 1 system(s):\n",
            "[2025-05-29 19:41:27,124] DEEPMD INFO                                        system  natoms  bch_sz   n_bch       prob  pbc\n",
            "[2025-05-29 19:41:27,124] DEEPMD INFO    -- s)/dataset/perturbations-si-64/0.05A-2p      64       1     100  1.000e+00    T\n",
            "[2025-05-29 19:41:27,124] DEEPMD INFO    --------------------------------------------------------------------------------------\n",
            "[2025-05-29 19:41:27,124] DEEPMD INFO    training without frame parameter\n",
            "[2025-05-29 19:41:27,124] DEEPMD INFO    data stating... (this step may take long time)\n",
            "[2025-05-29 19:41:27,256] DEEPMD INFO    built lr\n",
            "[2025-05-29 19:41:27,853] DEEPMD INFO    built network\n",
            "[2025-05-29 19:41:28,655] DEEPMD INFO    built training\n",
            "[2025-05-29 19:41:28,655] DEEPMD WARNING To get the best performance, it is recommended to adjust the number of threads by setting the environment variables OMP_NUM_THREADS, DP_INTRA_OP_PARALLELISM_THREADS, and DP_INTER_OP_PARALLELISM_THREADS. See https://deepmd.rtfd.io/parallelism/ for more information.\n",
            "[2025-05-29 19:41:28,689] DEEPMD INFO    initialize model from scratch\n",
            "[2025-05-29 19:41:28,864] DEEPMD INFO    start training at lr 2.00e-03 (== 2.00e-03), decay_step 500, decay_rate 0.969946, final lr will be 1.00e-08\n",
            "[2025-05-29 19:41:29,102] DEEPMD INFO    batch       0: trn: rmse = 2.16e+01, rmse_e = 1.46e+00, rmse_f = 6.80e-01, lr = 2.00e-03\n",
            "[2025-05-29 19:41:29,102] DEEPMD INFO    batch       0: val: rmse = 1.74e+01, rmse_e = 9.55e-01, rmse_f = 5.48e-01\n",
            "Traceback (most recent call last):\n",
            "  File \"/usr/local/bin/dp\", line 10, in <module>\n",
            "    sys.exit(main())\n",
            "             ^^^^^^\n",
            "  File \"/usr/local/lib/python3.11/site-packages/deepmd/main.py\", line 927, in main\n",
            "    deepmd_main(args)\n",
            "  File \"/usr/local/lib/python3.11/site-packages/deepmd/tf/entrypoints/main.py\", line 71, in main\n",
            "    train_dp(**dict_args)\n",
            "  File \"/usr/local/lib/python3.11/site-packages/deepmd/tf/entrypoints/train.py\", line 185, in train\n",
            "    _do_work(jdata, run_opt, is_compress)\n",
            "  File \"/usr/local/lib/python3.11/site-packages/deepmd/tf/entrypoints/train.py\", line 267, in _do_work\n",
            "    model.train(train_data, valid_data)\n",
            "  File \"/usr/local/lib/python3.11/site-packages/deepmd/tf/train/trainer.py\", line 528, in train\n",
            "    _, next_train_batch_list = run_sess(\n",
            "                               ^^^^^^^^^\n",
            "  File \"/usr/local/lib/python3.11/site-packages/deepmd/tf/utils/sess.py\", line 31, in run_sess\n",
            "    return sess.run(*args, **kwargs)\n",
            "           ^^^^^^^^^^^^^^^^^^^^^^^^^\n",
            "  File \"/usr/local/lib/python3.11/site-packages/tensorflow/python/client/session.py\", line 977, in run\n",
            "    result = self._run(None, fetches, feed_dict, options_ptr,\n",
            "             ^^^^^^^^^^^^^^^^^^^^^^^^^^^^^^^^^^^^^^^^^^^^^^^^\n",
            "  File \"/usr/local/lib/python3.11/site-packages/tensorflow/python/client/session.py\", line 1220, in _run\n",
            "    results = self._do_run(handle, final_targets, final_fetches,\n",
            "              ^^^^^^^^^^^^^^^^^^^^^^^^^^^^^^^^^^^^^^^^^^^^^^^^^^\n",
            "  File \"/usr/local/lib/python3.11/site-packages/tensorflow/python/client/session.py\", line 1400, in _do_run\n",
            "    return self._do_call(_run_fn, feeds, fetches, targets, options,\n",
            "           ^^^^^^^^^^^^^^^^^^^^^^^^^^^^^^^^^^^^^^^^^^^^^^^^^^^^^^^^\n",
            "  File \"/usr/local/lib/python3.11/site-packages/tensorflow/python/client/session.py\", line 1407, in _do_call\n",
            "    return fn(*args)\n",
            "           ^^^^^^^^^\n",
            "  File \"/usr/local/lib/python3.11/site-packages/tensorflow/python/client/session.py\", line 1390, in _run_fn\n",
            "    return self._call_tf_sessionrun(options, feed_dict, fetch_list,\n",
            "           ^^^^^^^^^^^^^^^^^^^^^^^^^^^^^^^^^^^^^^^^^^^^^^^^^^^^^^^^\n",
            "  File \"/usr/local/lib/python3.11/site-packages/tensorflow/python/client/session.py\", line 1483, in _call_tf_sessionrun\n",
            "    return tf_session.TF_SessionRun_wrapper(self._session, options, feed_dict,\n",
            "           ^^^^^^^^^^^^^^^^^^^^^^^^^^^^^^^^^^^^^^^^^^^^^^^^^^^^^^^^^^^^^^^^^^^\n",
            "KeyboardInterrupt\n",
            "^C\n"
          ]
        }
      ]
    }
  ]
}