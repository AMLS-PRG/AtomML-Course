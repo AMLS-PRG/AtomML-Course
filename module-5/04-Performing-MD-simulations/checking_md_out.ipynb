{
  "nbformat": 4,
  "nbformat_minor": 0,
  "metadata": {
    "colab": {
      "provenance": []
    },
    "kernelspec": {
      "name": "python3",
      "display_name": "Python 3"
    },
    "language_info": {
      "name": "python"
    }
  },
  "cells": [
    {
      "cell_type": "code",
      "execution_count": null,
      "metadata": {
        "colab": {
          "base_uri": "https://localhost:8080/"
        },
        "collapsed": true,
        "id": "GpPMlvJufNS_",
        "outputId": "692730e5-fa8b-441d-9598-83f66dbf7352"
      },
      "outputs": [
        {
          "output_type": "stream",
          "name": "stdout",
          "text": [
            "Cloning into 'AtomML-Course'...\n",
            "remote: Enumerating objects: 2751, done.\u001b[K\n",
            "remote: Counting objects: 100% (126/126), done.\u001b[K\n",
            "remote: Compressing objects: 100% (105/105), done.\u001b[K\n",
            "remote: Total 2751 (delta 87), reused 21 (delta 21), pack-reused 2625 (from 1)\u001b[K\n",
            "Receiving objects: 100% (2751/2751), 47.27 MiB | 20.98 MiB/s, done.\n",
            "Resolving deltas: 100% (1356/1356), done.\n"
          ]
        }
      ],
      "source": [
        "!rm -rf AtomML-Course\n",
        "!git clone https://github.com/AMLS-PRG/AtomML-Course"
      ]
    },
    {
      "cell_type": "code",
      "source": [
        "import matplotlib.pyplot as plt"
      ],
      "metadata": {
        "collapsed": true,
        "id": "PMRQp_DhfP7j"
      },
      "execution_count": null,
      "outputs": []
    },
    {
      "cell_type": "code",
      "source": [
        "file_liquid = \"AtomML-Course/module-5/04-Performing-MD-simulations/runLammps/md.out\"\n",
        "file_solid = \"AtomML-Course/module-5/04-Performing-MD-simulations/runLammps/md_solid.out\""
      ],
      "metadata": {
        "collapsed": true,
        "id": "1cqehoIqfxGv"
      },
      "execution_count": null,
      "outputs": []
    },
    {
      "cell_type": "code",
      "source": [
        "def read_data(filepath):\n",
        "    steps = []\n",
        "    max_devi_f = []\n",
        "    avg_devi_f = []\n",
        "    with open(filepath, 'r') as f:\n",
        "        for line in f:\n",
        "            line = line.strip()\n",
        "            if not line or line.startswith('#'):\n",
        "                continue\n",
        "            parts = line.split()\n",
        "            steps.append(int(parts[0]))\n",
        "            max_devi_f.append(float(parts[4]))\n",
        "            avg_devi_f.append(float(parts[6]))\n",
        "    return steps, max_devi_f, avg_devi_f"
      ],
      "metadata": {
        "id": "WCSZV8fzj9yh"
      },
      "execution_count": null,
      "outputs": []
    },
    {
      "cell_type": "markdown",
      "source": [],
      "metadata": {
        "id": "Ru6BgzkJkB64"
      }
    },
    {
      "cell_type": "code",
      "source": [
        "steps_liq, max_dev_liq, avg_dev_liq = read_data(file_liquid)\n",
        "steps_sol, max_dev_sol, avg_dev_sol = read_data(file_solid)"
      ],
      "metadata": {
        "id": "kGZWyENYkHHG"
      },
      "execution_count": null,
      "outputs": []
    },
    {
      "cell_type": "code",
      "source": [
        "#  max_devi_f\n",
        "plt.figure(figsize=(8,5))\n",
        "plt.plot(steps_liq, max_dev_liq, label='liquid', marker='o')\n",
        "plt.plot(steps_sol, max_dev_sol, label='solid', marker='s')\n",
        "plt.xlabel('Step')\n",
        "plt.ylabel('max_devi_f (eV/Å)')\n",
        "plt.title('Max Deviation of Force vs Step')\n",
        "plt.legend()\n",
        "plt.grid(True)\n",
        "plt.tight_layout()\n",
        "#plt.savefig(\"max_devi_f_vs_step.png\")\n",
        "plt.show()\n",
        "\n",
        "#  avg_devi_f\n",
        "plt.figure(figsize=(8,5))\n",
        "plt.plot(steps_liq, avg_dev_liq, label='liquid', marker='o')\n",
        "plt.plot(steps_sol, avg_dev_sol, label='solid', marker='s')\n",
        "plt.xlabel('Step')\n",
        "plt.ylabel('avg_devi_f (eV/Å)')\n",
        "plt.title('Average Deviation of Force vs Step')\n",
        "plt.legend()\n",
        "plt.grid(True)\n",
        "plt.tight_layout()\n",
        "#plt.savefig(\"avg_devi_f_vs_step.png\")\n",
        "plt.show()"
      ],
      "metadata": {
        "id": "s250_OH7kL-Y"
      },
      "execution_count": null,
      "outputs": []
    }
  ]
}