{
  "nbformat": 4,
  "nbformat_minor": 0,
  "metadata": {
    "colab": {
      "provenance": []
    },
    "kernelspec": {
      "name": "python3",
      "display_name": "Python 3"
    },
    "language_info": {
      "name": "python"
    }
  },
  "cells": [
    {
      "cell_type": "code",
      "execution_count": 89,
      "metadata": {
        "colab": {
          "base_uri": "https://localhost:8080/"
        },
        "collapsed": true,
        "id": "GpPMlvJufNS_",
        "outputId": "2a0ac463-e882-41f3-bdf7-2d0c6522c25f"
      },
      "outputs": [
        {
          "output_type": "stream",
          "name": "stdout",
          "text": [
            "Cloning into 'AtomML-Course'...\n",
            "remote: Enumerating objects: 992, done.\u001b[K\n",
            "remote: Counting objects: 100% (118/118), done.\u001b[K\n",
            "remote: Compressing objects: 100% (113/113), done.\u001b[K\n",
            "remote: Total 992 (delta 65), reused 0 (delta 0), pack-reused 874 (from 2)\u001b[K\n",
            "Receiving objects: 100% (992/992), 42.45 MiB | 23.38 MiB/s, done.\n",
            "Resolving deltas: 100% (388/388), done.\n",
            "'01-Extracting Raw Training Data'\n",
            "'02-Training machine learning potential (MLPs)'\n",
            "'03-Trained MLPs (Folder 02 Output)'\n",
            "'04-Performing MD simulations'\n"
          ]
        }
      ],
      "source": [
        "!rm -rf AtomML-Course\n",
        "!git clone https://github.com/AMLS-PRG/AtomML-Course\n",
        "!ls AtomML-Course/module-5"
      ]
    },
    {
      "cell_type": "code",
      "source": [
        "!pip install deepmd-kit\n",
        "!apt-get install -y lammps\n",
        "import os"
      ],
      "metadata": {
        "colab": {
          "base_uri": "https://localhost:8080/"
        },
        "collapsed": true,
        "id": "PMRQp_DhfP7j",
        "outputId": "9f6fcc5f-c3ff-40d9-e428-7e0ca9edf435"
      },
      "execution_count": 86,
      "outputs": [
        {
          "output_type": "stream",
          "name": "stdout",
          "text": [
            "Requirement already satisfied: deepmd-kit in /usr/local/lib/python3.11/dist-packages (3.0.3)\n",
            "Requirement already satisfied: numpy>=1.21 in /usr/local/lib/python3.11/dist-packages (from deepmd-kit) (1.26.4)\n",
            "Requirement already satisfied: scipy in /usr/local/lib/python3.11/dist-packages (from deepmd-kit) (1.15.3)\n",
            "Requirement already satisfied: pyyaml in /usr/local/lib/python3.11/dist-packages (from deepmd-kit) (6.0.2)\n",
            "Requirement already satisfied: dargs>=0.4.7 in /usr/local/lib/python3.11/dist-packages (from deepmd-kit) (0.4.10)\n",
            "Requirement already satisfied: h5py in /usr/local/lib/python3.11/dist-packages (from deepmd-kit) (3.13.0)\n",
            "Requirement already satisfied: wcmatch in /usr/local/lib/python3.11/dist-packages (from deepmd-kit) (10.0)\n",
            "Requirement already satisfied: packaging in /usr/local/lib/python3.11/dist-packages (from deepmd-kit) (24.2)\n",
            "Requirement already satisfied: ml_dtypes in /usr/local/lib/python3.11/dist-packages (from deepmd-kit) (0.4.1)\n",
            "Requirement already satisfied: mendeleev in /usr/local/lib/python3.11/dist-packages (from deepmd-kit) (1.0.0)\n",
            "Requirement already satisfied: array-api-compat in /usr/local/lib/python3.11/dist-packages (from deepmd-kit) (1.12.0)\n",
            "Requirement already satisfied: typeguard>=4 in /usr/local/lib/python3.11/dist-packages (from dargs>=0.4.7->deepmd-kit) (4.4.2)\n",
            "Requirement already satisfied: Pygments<3.0.0,>=2.11.2 in /usr/local/lib/python3.11/dist-packages (from mendeleev->deepmd-kit) (2.19.1)\n",
            "Requirement already satisfied: SQLAlchemy>=1.4.0 in /usr/local/lib/python3.11/dist-packages (from mendeleev->deepmd-kit) (2.0.41)\n",
            "Requirement already satisfied: colorama<0.5.0,>=0.4.6 in /usr/local/lib/python3.11/dist-packages (from mendeleev->deepmd-kit) (0.4.6)\n",
            "Requirement already satisfied: deprecated<2.0.0,>=1.2.14 in /usr/local/lib/python3.11/dist-packages (from mendeleev->deepmd-kit) (1.2.18)\n",
            "Requirement already satisfied: pandas>=1.0.0 in /usr/local/lib/python3.11/dist-packages (from mendeleev->deepmd-kit) (2.2.2)\n",
            "Requirement already satisfied: pydantic<3.0.0,>=2.9.2 in /usr/local/lib/python3.11/dist-packages (from mendeleev->deepmd-kit) (2.11.4)\n",
            "Requirement already satisfied: pyfiglet<0.9,>=0.8.post1 in /usr/local/lib/python3.11/dist-packages (from mendeleev->deepmd-kit) (0.8.post1)\n",
            "Requirement already satisfied: bracex>=2.1.1 in /usr/local/lib/python3.11/dist-packages (from wcmatch->deepmd-kit) (2.5.post1)\n",
            "Requirement already satisfied: wrapt<2,>=1.10 in /usr/local/lib/python3.11/dist-packages (from deprecated<2.0.0,>=1.2.14->mendeleev->deepmd-kit) (1.17.2)\n",
            "Requirement already satisfied: python-dateutil>=2.8.2 in /usr/local/lib/python3.11/dist-packages (from pandas>=1.0.0->mendeleev->deepmd-kit) (2.9.0.post0)\n",
            "Requirement already satisfied: pytz>=2020.1 in /usr/local/lib/python3.11/dist-packages (from pandas>=1.0.0->mendeleev->deepmd-kit) (2025.2)\n",
            "Requirement already satisfied: tzdata>=2022.7 in /usr/local/lib/python3.11/dist-packages (from pandas>=1.0.0->mendeleev->deepmd-kit) (2025.2)\n",
            "Requirement already satisfied: annotated-types>=0.6.0 in /usr/local/lib/python3.11/dist-packages (from pydantic<3.0.0,>=2.9.2->mendeleev->deepmd-kit) (0.7.0)\n",
            "Requirement already satisfied: pydantic-core==2.33.2 in /usr/local/lib/python3.11/dist-packages (from pydantic<3.0.0,>=2.9.2->mendeleev->deepmd-kit) (2.33.2)\n",
            "Requirement already satisfied: typing-extensions>=4.12.2 in /usr/local/lib/python3.11/dist-packages (from pydantic<3.0.0,>=2.9.2->mendeleev->deepmd-kit) (4.13.2)\n",
            "Requirement already satisfied: typing-inspection>=0.4.0 in /usr/local/lib/python3.11/dist-packages (from pydantic<3.0.0,>=2.9.2->mendeleev->deepmd-kit) (0.4.1)\n",
            "Requirement already satisfied: greenlet>=1 in /usr/local/lib/python3.11/dist-packages (from SQLAlchemy>=1.4.0->mendeleev->deepmd-kit) (3.2.2)\n",
            "Requirement already satisfied: six>=1.5 in /usr/local/lib/python3.11/dist-packages (from python-dateutil>=2.8.2->pandas>=1.0.0->mendeleev->deepmd-kit) (1.17.0)\n",
            "Reading package lists... Done\n",
            "Building dependency tree... Done\n",
            "Reading state information... Done\n",
            "lammps is already the newest version (20220106.git7586adbb6a+ds1-2).\n",
            "0 upgraded, 0 newly installed, 0 to remove and 35 not upgraded.\n"
          ]
        }
      ]
    },
    {
      "cell_type": "code",
      "source": [
        "os.chdir(r'/content/AtomML-Course/module-5/04-Performing MD simulations')\n",
        "\n",
        "print(os.listdir())\n",
        "!ls '/content/AtomML-Course/module-5/'\n",
        "\n",
        "\n",
        "!lmp_mpi -in input.lmp"
      ],
      "metadata": {
        "id": "F9w5VEU_5whT",
        "outputId": "3de868c5-04bc-4ed6-d415-b55d12ef5cc0",
        "colab": {
          "base_uri": "https://localhost:8080/",
          "height": 220
        }
      },
      "execution_count": 97,
      "outputs": [
        {
          "output_type": "error",
          "ename": "FileNotFoundError",
          "evalue": "[Errno 2] No such file or directory: '/content/AtomML-Course/module-5/04-Performing MD simulations'",
          "traceback": [
            "\u001b[0;31m---------------------------------------------------------------------------\u001b[0m",
            "\u001b[0;31mFileNotFoundError\u001b[0m                         Traceback (most recent call last)",
            "\u001b[0;32m<ipython-input-97-2a0e8000f58a>\u001b[0m in \u001b[0;36m<cell line: 0>\u001b[0;34m()\u001b[0m\n\u001b[0;32m----> 1\u001b[0;31m \u001b[0mos\u001b[0m\u001b[0;34m.\u001b[0m\u001b[0mchdir\u001b[0m\u001b[0;34m(\u001b[0m\u001b[0;34mr'/content/AtomML-Course/module-5/04-Performing MD simulations'\u001b[0m\u001b[0;34m)\u001b[0m\u001b[0;34m\u001b[0m\u001b[0;34m\u001b[0m\u001b[0m\n\u001b[0m\u001b[1;32m      2\u001b[0m \u001b[0;34m\u001b[0m\u001b[0m\n\u001b[1;32m      3\u001b[0m \u001b[0mprint\u001b[0m\u001b[0;34m(\u001b[0m\u001b[0mos\u001b[0m\u001b[0;34m.\u001b[0m\u001b[0mlistdir\u001b[0m\u001b[0;34m(\u001b[0m\u001b[0;34m)\u001b[0m\u001b[0;34m)\u001b[0m\u001b[0;34m\u001b[0m\u001b[0;34m\u001b[0m\u001b[0m\n\u001b[1;32m      4\u001b[0m \u001b[0mget_ipython\u001b[0m\u001b[0;34m(\u001b[0m\u001b[0;34m)\u001b[0m\u001b[0;34m.\u001b[0m\u001b[0msystem\u001b[0m\u001b[0;34m(\u001b[0m\u001b[0;34m\"ls '/content/AtomML-Course/module-5/'\"\u001b[0m\u001b[0;34m)\u001b[0m\u001b[0;34m\u001b[0m\u001b[0;34m\u001b[0m\u001b[0m\n\u001b[1;32m      5\u001b[0m \u001b[0;34m\u001b[0m\u001b[0m\n",
            "\u001b[0;31mFileNotFoundError\u001b[0m: [Errno 2] No such file or directory: '/content/AtomML-Course/module-5/04-Performing MD simulations'"
          ]
        }
      ]
    }
  ]
}