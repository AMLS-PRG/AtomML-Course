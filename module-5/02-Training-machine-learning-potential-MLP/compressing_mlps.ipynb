{
  "nbformat": 4,
  "nbformat_minor": 0,
  "metadata": {
    "colab": {
      "provenance": []
    },
    "kernelspec": {
      "name": "python3",
      "display_name": "Python 3"
    },
    "language_info": {
      "name": "python"
    }
  },
  "cells": [
    {
      "cell_type": "code",
      "execution_count": null,
      "metadata": {
        "collapsed": true,
        "id": "GpPMlvJufNS_"
      },
      "outputs": [],
      "source": [
        "!git clone https://github.com/AMLS-PRG/AtomML-Course"
      ]
    },
    {
      "cell_type": "code",
      "source": [
        "!pip install -q condacolab\n",
        "import condacolab\n",
        "condacolab.install()\n",
        "!conda install -c deepmodeling deepmd-kit -y"
      ],
      "metadata": {
        "id": "PMRQp_DhfP7j"
      },
      "execution_count": null,
      "outputs": []
    },
    {
      "cell_type": "code",
      "source": [
        "%cd \"AtomML-Course/module-5/02-Training-machine-learning-potential-(MLP)/\"\n",
        "!dp compress -t input-compress.json -i frozen_model_1.pb -o frozen_model_1_compressed.pb\n"
      ],
      "metadata": {
        "collapsed": true,
        "id": "1cqehoIqfxGv"
      },
      "execution_count": null,
      "outputs": []
    }
  ]
}
