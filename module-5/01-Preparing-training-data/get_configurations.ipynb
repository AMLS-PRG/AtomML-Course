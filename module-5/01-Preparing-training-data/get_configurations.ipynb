{
 "cells": [
  {
   "cell_type": "code",
   "execution_count": 1,
   "metadata": {
    "colab": {
     "base_uri": "https://localhost:8080/"
    },
    "collapsed": true,
    "id": "EaHYsqjQW7pc",
    "jupyter": {
     "outputs_hidden": true
    },
    "outputId": "63978a57-2bd7-49da-8c04-53a7fc29ad44"
   },
   "outputs": [
    {
     "name": "stdout",
     "output_type": "stream",
     "text": [
      "Cloning into 'AtomML-Course'...\n",
      "remote: Enumerating objects: 2599, done.\u001b[K\n",
      "remote: Counting objects: 100% (1463/1463), done.\u001b[K\n",
      "remote: Compressing objects: 100% (1459/1459), done.\u001b[K\n",
      "remote: Total 2599 (delta 742), reused 3 (delta 3), pack-reused 1136 (from 3)\u001b[K\n",
      "Receiving objects: 100% (2599/2599), 47.32 MiB | 9.37 MiB/s, done.\n",
      "Resolving deltas: 100% (1224/1224), done.\n",
      "Updating files: 100% (1682/1682), done.\n",
      "Collecting ase\n",
      "  Downloading ase-3.25.0-py3-none-any.whl.metadata (4.2 kB)\n",
      "Requirement already satisfied: numpy>=1.19.5 in /usr/local/lib/python3.11/dist-packages (from ase) (2.0.2)\n",
      "Requirement already satisfied: scipy>=1.6.0 in /usr/local/lib/python3.11/dist-packages (from ase) (1.15.3)\n",
      "Requirement already satisfied: matplotlib>=3.3.4 in /usr/local/lib/python3.11/dist-packages (from ase) (3.10.0)\n",
      "Requirement already satisfied: contourpy>=1.0.1 in /usr/local/lib/python3.11/dist-packages (from matplotlib>=3.3.4->ase) (1.3.2)\n",
      "Requirement already satisfied: cycler>=0.10 in /usr/local/lib/python3.11/dist-packages (from matplotlib>=3.3.4->ase) (0.12.1)\n",
      "Requirement already satisfied: fonttools>=4.22.0 in /usr/local/lib/python3.11/dist-packages (from matplotlib>=3.3.4->ase) (4.58.0)\n",
      "Requirement already satisfied: kiwisolver>=1.3.1 in /usr/local/lib/python3.11/dist-packages (from matplotlib>=3.3.4->ase) (1.4.8)\n",
      "Requirement already satisfied: packaging>=20.0 in /usr/local/lib/python3.11/dist-packages (from matplotlib>=3.3.4->ase) (24.2)\n",
      "Requirement already satisfied: pillow>=8 in /usr/local/lib/python3.11/dist-packages (from matplotlib>=3.3.4->ase) (11.2.1)\n",
      "Requirement already satisfied: pyparsing>=2.3.1 in /usr/local/lib/python3.11/dist-packages (from matplotlib>=3.3.4->ase) (3.2.3)\n",
      "Requirement already satisfied: python-dateutil>=2.7 in /usr/local/lib/python3.11/dist-packages (from matplotlib>=3.3.4->ase) (2.9.0.post0)\n",
      "Requirement already satisfied: six>=1.5 in /usr/local/lib/python3.11/dist-packages (from python-dateutil>=2.7->matplotlib>=3.3.4->ase) (1.17.0)\n",
      "Downloading ase-3.25.0-py3-none-any.whl (3.0 MB)\n",
      "\u001b[2K   \u001b[90m━━━━━━━━━━━━━━━━━━━━━━━━━━━━━━━━━━━━━━━━\u001b[0m \u001b[32m3.0/3.0 MB\u001b[0m \u001b[31m24.6 MB/s\u001b[0m eta \u001b[36m0:00:00\u001b[0m\n",
      "\u001b[?25hInstalling collected packages: ase\n",
      "Successfully installed ase-3.25.0\n"
     ]
    }
   ],
   "source": [
    "!git clone https://github.com/AMLS-PRG/AtomML-Course.git\n",
    "!pip install ase"
   ]
  },
  {
   "cell_type": "code",
   "execution_count": 6,
   "metadata": {
    "id": "Lq72JN27XCmn"
   },
   "outputs": [],
   "source": [
    "import os\n",
    "import numpy as np\n",
    "import ase.io\n",
    "from ase.calculators.espresso import Espresso"
   ]
  },
  {
   "cell_type": "code",
   "execution_count": 7,
   "metadata": {
    "colab": {
     "base_uri": "https://localhost:8080/"
    },
    "id": "heSO4lWbzFBE",
    "outputId": "a339d324-208a-4b43-b8d2-71c0add0150d"
   },
   "outputs": [
    {
     "data": {
      "text/plain": [
       "0"
      ]
     },
     "execution_count": 7,
     "metadata": {},
     "output_type": "execute_result"
    }
   ],
   "source": [
    "################################\n",
    "# QE options\n",
    "################################\n",
    "\n",
    "pseudopotentials = {'Si': 'Si_ONCV_PBE_sr.upf'}\n",
    "\n",
    "input_qe = {\n",
    "            'calculation':'scf',\n",
    "            'outdir':'./',\n",
    "            'pseudo_dir':'AtomML-Course/module-5/01-Preparing-training-data/',\n",
    "            'disk_io':'none',\n",
    "            'system':{\n",
    "              'ecutwfc': 30,\n",
    "              'input_dft': 'PBE',\n",
    "              'occupations': 'smearing',\n",
    "              'smearing': 'fermi-dirac',\n",
    "              'degauss': 0.01,\n",
    "             },\n",
    "            'electrons':{\n",
    "               'mixing_beta': 0.5,\n",
    "               'electron_maxstep':100,\n",
    "             },\n",
    "}\n",
    "\n",
    "\n",
    "os.system('mkdir extracted-confs')\n"
   ]
  },
  {
   "cell_type": "code",
   "execution_count": 8,
   "metadata": {
    "id": "Pq60_KT37tIz"
   },
   "outputs": [],
   "source": [
    "traj=ase.io.read('AtomML-Course/module-5/01-Preparing-training-data/dataset/liquid-si-64/trajectory-lammps-1700K-1bar/si.lammps-dump-text',format='lammps-dump-text',index=':')\n",
    "step=1\n",
    "counter1=0 # Number of configurations written\n",
    "counter2=0 # Frame number\n",
    "for conf in traj:\n",
    "   if ((counter2%step)==0):\n",
    "      species=np.array(conf.get_chemical_symbols())\n",
    "      species=np.full(shape=species.shape,fill_value=\"Si\")\n",
    "      conf.set_chemical_symbols(species)\n",
    "      ase.io.write('extracted-confs/pw-si-' + str(counter1) + '.in',conf, format='espresso-in',input_data=input_qe, pseudopotentials=pseudopotentials, tprnfor=True, tstress=True)\n",
    "      counter1 += 1\n",
    "   counter2 += 1"
   ]
  },
  {
   "cell_type": "code",
   "execution_count": null,
   "metadata": {
    "collapsed": true,
    "id": "YKdRGTz9z3S3",
    "jupyter": {
     "outputs_hidden": true
    }
   },
   "outputs": [],
   "source": [
    "from google.colab import files\n",
    "\n",
    "files.download(\"extracted-confs\")"
   ]
  }
 ],
 "metadata": {
  "colab": {
   "name": "欢迎使用 Colab",
   "provenance": []
  },
  "kernelspec": {
   "display_name": "Python 3 (ipykernel)",
   "language": "python",
   "name": "python3"
  },
  "language_info": {
   "codemirror_mode": {
    "name": "ipython",
    "version": 3
   },
   "file_extension": ".py",
   "mimetype": "text/x-python",
   "name": "python",
   "nbconvert_exporter": "python",
   "pygments_lexer": "ipython3",
   "version": "3.11.7"
  }
 },
 "nbformat": 4,
 "nbformat_minor": 4
}
