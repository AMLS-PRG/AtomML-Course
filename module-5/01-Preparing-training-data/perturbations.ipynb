{
 "cells": [
  {
   "cell_type": "code",
   "execution_count": null,
   "metadata": {
    "colab": {
     "base_uri": "https://localhost:8080/"
    },
    "id": "GpPMlvJufNS_",
    "outputId": "ca2e3dd0-6c89-4e8f-b4ff-2762c0c0fb77"
   },
   "outputs": [],
   "source": [
    "!git clone https://github.com/AMLS-PRG/AtomML-Course"
   ]
  },
  {
   "cell_type": "code",
   "execution_count": null,
   "metadata": {
    "colab": {
     "base_uri": "https://localhost:8080/"
    },
    "id": "PMRQp_DhfP7j",
    "outputId": "fbe3856c-4dc6-4a54-f7bb-1f8b2131d70b"
   },
   "outputs": [],
   "source": [
    "!pip install ase numpy\n",
    "\n",
    "from ase.io import read, write\n",
    "from ase.calculators.espresso import Espresso\n",
    "from ase.build import make_supercell\n",
    "from ase.visualize import view\n",
    "import numpy as np"
   ]
  },
  {
   "cell_type": "code",
   "execution_count": null,
   "metadata": {
    "id": "apRYnK0lksRq"
   },
   "outputs": [],
   "source": [
    "################################\n",
    "# Parameters\n",
    "################################\n",
    "max_displacement=0.01 # Maximum displacement in angstrom\n",
    "max_cell_change=0.01 # Maximum fractional change in cell\n",
    "\n",
    "################################\n",
    "# QE options\n",
    "################################\n",
    "pseudopotentials = {'Si': 'Si_ONCV_PBE-1.0.upf'}\n",
    "\n",
    "input_qe = {\n",
    "            'calculation':'scf',\n",
    "            'outdir': './',\n",
    "            'pseudo_dir': './',\n",
    "            'tprnfor': True,\n",
    "            'tstress': True,\n",
    "            'disk_io':'none',\n",
    "            'system':{\n",
    "              'ecutwfc': 30,\n",
    "              'input_dft': 'PBE',\n",
    "              'occupations': 'smearing',\n",
    "              'smearing': 'fermi-dirac',\n",
    "              'degauss': 0.01,\n",
    "             },\n",
    "            'electrons':{\n",
    "               'mixing_beta': 0.5,\n",
    "               'electron_maxstep':1000,\n",
    "             },\n",
    "}"
   ]
  },
  {
   "cell_type": "code",
   "execution_count": null,
   "metadata": {
    "id": "wUUspVUSky-Y"
   },
   "outputs": [],
   "source": [
    "#################################\n",
    "# LOAD and make supercell\n",
    "#################################\n",
    "bulk_si = read('AtomML-Course/module-5/01-Preparing-training-data/dataset/perturbations-si-64/pw-si-vc_relax.out',format='espresso-out')\n",
    "P = [[2, 0, 0], [0, 2, 0], [0, 0, 2]]\n",
    "conf = make_supercell(bulk_si, P)\n",
    "\n",
    "initial_positions=conf.get_positions()\n",
    "initial_cell=conf.get_cell()\n",
    "\n",
    "###############################################\n",
    "# Random perturbations of positions and lattice\n",
    "###############################################\n",
    "num_iterations=100\n",
    "for i in range(num_iterations):\n",
    "    conf.set_cell(initial_cell)\n",
    "    conf.set_positions(initial_positions)\n",
    "    cell = conf.get_cell()\n",
    "    # Scale each cell component randomly\n",
    "    cell *= 1-(np.random.rand(cell.shape[0],cell.shape[1])*2*max_cell_change-max_cell_change)\n",
    "    conf.set_cell(cell,scale_atoms=True)\n",
    "    # Displace each coordinate randomly\n",
    "    positions=conf.get_positions()\n",
    "    positions += np.random.rand(positions.shape[0],positions.shape[1])*2*max_displacement - max_displacement\n",
    "    conf.set_positions(positions)\n",
    "    write('pw-si-' + str(i) + '.in',conf, format='espresso-in',input_data=input_qe, pseudopotentials=pseudopotentials)"
   ]
  },
  {
   "cell_type": "code",
   "execution_count": null,
   "metadata": {
    "colab": {
     "base_uri": "https://localhost:8080/",
     "height": 317
    },
    "id": "k5mv4SJPmibU",
    "outputId": "4d9b6a67-b202-4ecb-e709-a9bb852f35cb"
   },
   "outputs": [],
   "source": [
    "from IPython.display import HTML\n",
    "\n",
    "perturbed_conf = read('pw-si-0.in', format='espresso-in')\n",
    "view(perturbed_conf, viewer='x3d')"
   ]
  }
 ],
 "metadata": {
  "colab": {
   "provenance": []
  },
  "kernelspec": {
   "display_name": "Python 3 (ipykernel)",
   "language": "python",
   "name": "python3"
  },
  "language_info": {
   "codemirror_mode": {
    "name": "ipython",
    "version": 3
   },
   "file_extension": ".py",
   "mimetype": "text/x-python",
   "name": "python",
   "nbconvert_exporter": "python",
   "pygments_lexer": "ipython3",
   "version": "3.11.7"
  }
 },
 "nbformat": 4,
 "nbformat_minor": 4
}
