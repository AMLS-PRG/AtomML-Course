{
 "cells": [
  {
   "cell_type": "markdown",
   "id": "93f13d5c",
   "metadata": {},
   "source": [
    "# Error Analysis\n",
    "This is a short example for anaylzing the trained model's prediction errors."
   ]
  },
  {
   "cell_type": "markdown",
   "id": "beb8648c",
   "metadata": {},
   "source": [
    "### Model Inference"
   ]
  },
  {
   "cell_type": "code",
   "execution_count": null,
   "id": "29f1589c-01fe-4fdf-b5ff-071fced8c070",
   "metadata": {},
   "outputs": [],
   "source": [
    "!git clone https://github.com/AMLS-PRG/AtomML-Course"
   ]
  },
  {
   "cell_type": "code",
   "execution_count": null,
   "id": "eecb149e-a15a-45b3-8851-b34e5c7879f6",
   "metadata": {},
   "outputs": [],
   "source": [
    "!pip install numpy matplotlib deepmd-kit dpdata"
   ]
  },
  {
   "cell_type": "code",
   "execution_count": null,
   "id": "66f44f9c",
   "metadata": {},
   "outputs": [],
   "source": [
    "from deepmd.infer import DeepPot\n",
    "import numpy as np\n",
    "from matplotlib import pyplot as plt\n",
    "import dpdata\n",
    "from deepmd.common import expand_sys_str\n",
    "from deepmd import DeepPotential"
   ]
  },
  {
   "cell_type": "code",
   "execution_count": null,
   "id": "876788c9",
   "metadata": {},
   "outputs": [],
   "source": [
    "model = DeepPotential(\"AtomML-Course/module-5/02-Training-machine-learning-potential-MLP/Trained-MLPs/frozen_model_1_compressed.pb\")\n",
    "all_systems = expand_sys_str(\"AtomML-Course/module-5/01-Preparing-training-data/dataset\")\n",
    "E_pred, F_pred, E_true, F_true = [], [], [], []\n",
    "for system in all_systems:\n",
    "    data = dpdata.LabeledSystem(system, fmt='deepmd/npy')\n",
    "    energy, force, virial = model.eval(data['coords'], data['cells'], data['atom_types'])\n",
    "    E_pred.append(energy[:,0])\n",
    "    F_pred.append(force)\n",
    "    E_true.append(data['energies'])\n",
    "    F_true.append(data['forces'])\n",
    "E_pred, F_pred = np.concatenate(E_pred), np.concatenate(F_pred)\n",
    "E_true, F_true = np.concatenate(E_true), np.concatenate(F_true)"
   ]
  },
  {
   "cell_type": "markdown",
   "id": "c9b0b3d5",
   "metadata": {},
   "source": [
    "### RMSE"
   ]
  },
  {
   "cell_type": "code",
   "execution_count": null,
   "id": "52403c96",
   "metadata": {},
   "outputs": [],
   "source": [
    "print('Energy RMSE (eV):      %.4e' % ((E_pred - E_true)**2).mean()**0.5)\n",
    "print('Energy RMSE/atom (eV): %.4e' % (((E_pred - E_true)**2).mean()**0.5 / data['coords'].shape[1]))\n",
    "print('Force RMSE (eV/A):     %.4e' % ((F_pred - F_true)**2).mean()**0.5)"
   ]
  },
  {
   "cell_type": "markdown",
   "id": "ac9c20d1",
   "metadata": {},
   "source": [
    "### Parity Plots"
   ]
  },
  {
   "cell_type": "code",
   "execution_count": null,
   "id": "4a26f232",
   "metadata": {},
   "outputs": [],
   "source": [
    "plt.plot(F_true.flatten(), F_true.flatten())\n",
    "plt.plot(F_pred.flatten(), F_true.flatten(), '.')"
   ]
  },
  {
   "cell_type": "markdown",
   "id": "318e36b2",
   "metadata": {},
   "source": [
    "### Error Distribution"
   ]
  },
  {
   "cell_type": "code",
   "execution_count": null,
   "id": "52ce3c95",
   "metadata": {},
   "outputs": [],
   "source": [
    "histogram = plt.hist((F_pred - F_true).flatten(), bins=300, density=True)"
   ]
  }
 ],
 "metadata": {
  "kernelspec": {
   "display_name": "Python 3 (ipykernel)",
   "language": "python",
   "name": "python3"
  },
  "language_info": {
   "codemirror_mode": {
    "name": "ipython",
    "version": 3
   },
   "file_extension": ".py",
   "mimetype": "text/x-python",
   "name": "python",
   "nbconvert_exporter": "python",
   "pygments_lexer": "ipython3",
   "version": "3.11.7"
  }
 },
 "nbformat": 4,
 "nbformat_minor": 5
}
