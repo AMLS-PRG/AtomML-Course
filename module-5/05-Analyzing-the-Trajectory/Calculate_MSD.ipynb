{
  "nbformat": 4,
  "nbformat_minor": 0,
  "metadata": {
    "colab": {
      "provenance": []
    },
    "kernelspec": {
      "name": "python3",
      "display_name": "Python 3"
    },
    "language_info": {
      "name": "python"
    }
  },
  "cells": [
    {
      "cell_type": "code",
      "execution_count": null,
      "metadata": {
        "colab": {
          "base_uri": "https://localhost:8080/"
        },
        "collapsed": true,
        "id": "GpPMlvJufNS_",
        "outputId": "692730e5-fa8b-441d-9598-83f66dbf7352"
      },
      "outputs": [
        {
          "output_type": "stream",
          "name": "stdout",
          "text": [
            "Cloning into 'AtomML-Course'...\n",
            "remote: Enumerating objects: 2751, done.\u001b[K\n",
            "remote: Counting objects: 100% (126/126), done.\u001b[K\n",
            "remote: Compressing objects: 100% (105/105), done.\u001b[K\n",
            "remote: Total 2751 (delta 87), reused 21 (delta 21), pack-reused 2625 (from 1)\u001b[K\n",
            "Receiving objects: 100% (2751/2751), 47.27 MiB | 20.98 MiB/s, done.\n",
            "Resolving deltas: 100% (1356/1356), done.\n"
          ]
        }
      ],
      "source": [
        "!rm -rf AtomML-Course\n",
        "!git clone https://github.com/AMLS-PRG/AtomML-Course"
      ]
    },
    {
      "cell_type": "code",
      "source": [
        "pip install ase numpy matplotlib\n",
        "import numpy as np\n",
        "import matplotlib.pyplot as plt\n",
        "from ase.io.lammpsrun import read_lammps_dump\n",
        "from ase.geometry.analysis import Analysis"
      ],
      "metadata": {
        "collapsed": true,
        "id": "PMRQp_DhfP7j"
      },
      "execution_count": null,
      "outputs": []
    },
    {
      "cell_type": "code",
      "source": [
        "# ----------- Parameters -----------\n",
        "file_liquid = \"AtomML-Course/module-5/04-Performing-MD-simulations/runLammps/md.dump\"\n",
        "file_solid  = \"AtomML-Course/module-5/04-Performing-MD-simulations/runLammps/md_solid.dump\"\n",
        "\n",
        "n_frames = 500              # use last 500 frames\n",
        "time_step_fs = 100          # 100 fs per frame\n",
        "bins = np.arange(5, 51, 5)  # bin sizes: 5, 10, ..., 50 frames (0.5 ps to 5 ps)"
      ],
      "metadata": {
        "collapsed": true,
        "id": "1cqehoIqfxGv"
      },
      "execution_count": null,
      "outputs": []
    },
    {
      "cell_type": "code",
      "source": [
        "# ----------- Helper: unwrap PBC for ASE trajectory -----------\n",
        "def unwrap_positions(frames):\n",
        "    \"\"\"\n",
        "    Reconstruct atom trajectories with unwrapped positions using PBC and LAMMPS image flags.\n",
        "    \"\"\"\n",
        "    unwrapped = []\n",
        "    positions0 = frames[0].positions.copy()\n",
        "    box = frames[0].get_cell()\n",
        "\n",
        "    # LAMMPS image flags (ix, iy, iz) store how many times an atom has crossed a boundary\n",
        "    for atoms in frames:\n",
        "        if 'ix' not in atoms.arrays:\n",
        "            raise ValueError(\"LAMMPS dump must include image flags (ix, iy, iz) for unwrapping.\")\n",
        "        shift = np.dot(atoms.arrays[['ix', 'iy', 'iz']], box)\n",
        "        pos_unwrapped = atoms.positions + shift\n",
        "        unwrapped.append(pos_unwrapped)\n",
        "    return np.array(unwrapped)  # shape: (n_frames, n_atoms, 3)\n",
        "\n",
        "# ----------- Compute MSD -----------\n",
        "\n",
        "def compute_msd(frames, bins, time_step_fs):\n",
        "    \"\"\"\n",
        "    Compute MSD from a trajectory of ASE Atoms objects for atom type 1.\n",
        "\n",
        "    Returns:\n",
        "    - times_fs: time lag in fs\n",
        "    - msd_vals: array of MSD values for each bin\n",
        "    \"\"\"\n",
        "    # Get unwrapped positions of atoms of type 1\n",
        "    type_mask = frames[0].arrays[\"type\"] == 1\n",
        "    unwrapped_all = unwrap_positions(frames)[:, type_mask, :]\n",
        "\n",
        "    n_atoms = unwrapped_all.shape[1]\n",
        "    n_total = unwrapped_all.shape[0]\n",
        "\n",
        "    msd_vals = []\n",
        "    times_fs = []\n",
        "\n",
        "    for dt in bins:\n",
        "        displacements = unwrapped_all[dt:] - unwrapped_all[:-dt]\n",
        "        sq_disp = np.square(displacements).sum(axis=2)  # (frames - dt, atoms)\n",
        "        msd_dt = np.mean(sq_disp)\n",
        "        msd_vals.append(msd_dt)\n",
        "        times_fs.append(dt * time_step_fs)\n",
        "\n",
        "    return np.array(times_fs), np.array(msd_vals)"
      ],
      "metadata": {
        "id": "WCSZV8fzj9yh"
      },
      "execution_count": null,
      "outputs": []
    },
    {
      "cell_type": "markdown",
      "source": [],
      "metadata": {
        "id": "Ru6BgzkJkB64"
      }
    },
    {
      "cell_type": "code",
      "source": [
        "# ----------- Load last 500 frames -----------\n",
        "frames_liquid = read_lammps_dump(file_liquid, index=slice(-n_frames, None))\n",
        "frames_solid  = read_lammps_dump(file_solid, index=slice(-n_frames, None))\n",
        "\n",
        "# ----------- Compute MSD -----------\n",
        "times_liq, msd_liq = compute_msd(frames_liquid, bins, time_step_fs)\n",
        "times_sol, msd_sol = compute_msd(frames_solid,  bins, time_step_fs)"
      ],
      "metadata": {
        "id": "kGZWyENYkHHG"
      },
      "execution_count": null,
      "outputs": []
    },
    {
      "cell_type": "code",
      "source": [
        "# ----------- Plot MSD -----------\n",
        "\n",
        "plt.figure(figsize=(8, 5))\n",
        "plt.plot(times_liq / 1000, msd_liq, 'o--', label='Liquid')  # time in ps\n",
        "plt.plot(times_sol / 1000, msd_sol, 's--', label='Solid')\n",
        "plt.xlabel(\"Time lag (ps)\", fontsize=12)\n",
        "plt.ylabel(\"MSD (Å²)\", fontsize=12)\n",
        "plt.title(\"Mean Squared Displacement (MSD)\", fontsize=14)\n",
        "plt.grid(True)\n",
        "plt.legend()\n",
        "plt.tight_layout()\n",
        "plt.savefig(\"msd_comparison.png\")\n",
        "plt.show()"
      ],
      "metadata": {
        "id": "s250_OH7kL-Y"
      },
      "execution_count": null,
      "outputs": []
    }
  ]
}