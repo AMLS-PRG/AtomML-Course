{
  "nbformat": 4,
  "nbformat_minor": 0,
  "metadata": {
    "colab": {
      "provenance": []
    },
    "kernelspec": {
      "name": "python3",
      "display_name": "Python 3"
    },
    "language_info": {
      "name": "python"
    }
  },
  "cells": [
    {
      "cell_type": "code",
      "execution_count": null,
      "metadata": {
        "colab": {
          "base_uri": "https://localhost:8080/"
        },
        "collapsed": true,
        "id": "GpPMlvJufNS_",
        "outputId": "692730e5-fa8b-441d-9598-83f66dbf7352"
      },
      "outputs": [
        {
          "output_type": "stream",
          "name": "stdout",
          "text": [
            "Cloning into 'AtomML-Course'...\n",
            "remote: Enumerating objects: 2751, done.\u001b[K\n",
            "remote: Counting objects: 100% (126/126), done.\u001b[K\n",
            "remote: Compressing objects: 100% (105/105), done.\u001b[K\n",
            "remote: Total 2751 (delta 87), reused 21 (delta 21), pack-reused 2625 (from 1)\u001b[K\n",
            "Receiving objects: 100% (2751/2751), 47.27 MiB | 20.98 MiB/s, done.\n",
            "Resolving deltas: 100% (1356/1356), done.\n"
          ]
        }
      ],
      "source": [
        "!rm -rf AtomML-Course\n",
        "!git clone https://github.com/AMLS-PRG/AtomML-Course"
      ]
    },
    {
      "cell_type": "code",
      "source": [
        "pip install ase numpy matplotlib\n",
        "import numpy as np\n",
        "import matplotlib.pyplot as plt\n",
        "from ase.io.lammpsrun import read_lammps_dump"
      ],
      "metadata": {
        "collapsed": true,
        "id": "PMRQp_DhfP7j"
      },
      "execution_count": null,
      "outputs": []
    },
    {
      "cell_type": "code",
      "source": [
        "# ----------- File paths -----------\n",
        "file_liquid = \"AtomML-Course/module-5/04-Performing-MD-simulations/runLammps/md.dump\"\n",
        "file_solid  = \"AtomML-Course/module-5/04-Performing-MD-simulations/runLammps/md_solid.dump\"\n",
        "\n",
        "# ----------- Parameters -----------\n",
        "n_frames = 700          # last 700 frames\n",
        "bin_width = 0.5         # Å\n",
        "atom_type = 1           # target atom type"
      ],
      "metadata": {
        "collapsed": true,
        "id": "1cqehoIqfxGv"
      },
      "execution_count": null,
      "outputs": []
    },
    {
      "cell_type": "markdown",
      "source": [],
      "metadata": {
        "id": "Ru6BgzkJkB64"
      }
    },
    {
      "cell_type": "code",
      "source": [
        "# ----------- Density calculation function -----------\n",
        "\n",
        "def compute_z_density(frames, bin_width, atom_type):\n",
        "    \"\"\"\n",
        "    Compute the average atomic number density along the z-axis (in #/nm³).\n",
        "\n",
        "    Parameters:\n",
        "        frames: list of ASE Atoms objects\n",
        "        bin_width: bin width in Å\n",
        "        atom_type: atom type to include (int)\n",
        "\n",
        "    Returns:\n",
        "        z_centers: array of bin center positions (Å)\n",
        "        avg_density: average density values over frames (#/nm³)\n",
        "    \"\"\"\n",
        "    densities_all = []\n",
        "\n",
        "    for atoms in frames:\n",
        "        # Get box dimensions\n",
        "        cell = atoms.get_cell()\n",
        "        z_length = cell[2, 2]\n",
        "        x_len = cell[0, 0]\n",
        "        y_len = cell[1, 1]\n",
        "\n",
        "        # Atom positions for given type\n",
        "        z_pos = atoms.positions[atoms.arrays['type'] == atom_type][:, 2]\n",
        "\n",
        "        # Histogram\n",
        "        n_bins = int(np.ceil(z_length / bin_width))\n",
        "        hist, bin_edges = np.histogram(z_pos, bins=n_bins, range=(0, z_length))\n",
        "\n",
        "        # Bin volume in nm³\n",
        "        bin_volume_nm3 = (x_len * y_len * bin_width) * 1e-3\n",
        "        density = hist / bin_volume_nm3  # #/nm³\n",
        "        densities_all.append(density)\n",
        "\n",
        "    avg_density = np.mean(densities_all, axis=0)\n",
        "    z_centers = 0.5 * (bin_edges[:-1] + bin_edges[1:])\n",
        "\n",
        "    return z_centers, avg_density\n"
      ],
      "metadata": {
        "id": "c9FloCWkxTHi"
      },
      "execution_count": null,
      "outputs": []
    },
    {
      "cell_type": "code",
      "source": [
        "# ----------- Load last 700 frames -----------\n",
        "\n",
        "frames_liq = read_lammps_dump(file_liquid, index=slice(-n_frames, None))\n",
        "frames_sol = read_lammps_dump(file_solid, index=slice(-n_frames, None))\n",
        "\n",
        "# ----------- Compute densities -----------\n",
        "\n",
        "z_liq, dens_liq = compute_z_density(frames_liq, bin_width, atom_type)\n",
        "z_sol, dens_sol = compute_z_density(frames_sol, bin_width, atom_type)"
      ],
      "metadata": {
        "id": "s250_OH7kL-Y"
      },
      "execution_count": null,
      "outputs": []
    },
    {
      "cell_type": "code",
      "source": [
        "# ----------- Plot both densities -----------\n",
        "\n",
        "plt.figure(figsize=(8, 5))\n",
        "plt.plot(z_liq, dens_liq, label='Liquid', linestyle='--', marker='o', markersize=4)\n",
        "plt.plot(z_sol, dens_sol, label='Solid', linestyle='--', marker='s', markersize=4)\n",
        "\n",
        "plt.xlabel(\"z (Å)\", fontsize=12)\n",
        "plt.ylabel(\"Density (#/nm³)\", fontsize=12)\n",
        "plt.title(\"Z-axis Atomic Density Profile\", fontsize=14)\n",
        "plt.grid(True)\n",
        "plt.legend()\n",
        "plt.tight_layout()\n",
        "plt.savefig(\"z_density_liquid_vs_solid.png\")\n",
        "plt.show()"
      ],
      "metadata": {
        "id": "cMMSmusvxdxz"
      },
      "execution_count": null,
      "outputs": []
    }
  ]
}