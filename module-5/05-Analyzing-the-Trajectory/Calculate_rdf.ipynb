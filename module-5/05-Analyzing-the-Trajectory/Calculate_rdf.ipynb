{
  "nbformat": 4,
  "nbformat_minor": 0,
  "metadata": {
    "colab": {
      "provenance": []
    },
    "kernelspec": {
      "name": "python3",
      "display_name": "Python 3"
    },
    "language_info": {
      "name": "python"
    }
  },
  "cells": [
    {
      "cell_type": "code",
      "execution_count": null,
      "metadata": {
        "colab": {
          "base_uri": "https://localhost:8080/"
        },
        "collapsed": true,
        "id": "GpPMlvJufNS_",
        "outputId": "692730e5-fa8b-441d-9598-83f66dbf7352"
      },
      "outputs": [
        {
          "output_type": "stream",
          "name": "stdout",
          "text": [
            "Cloning into 'AtomML-Course'...\n",
            "remote: Enumerating objects: 2751, done.\u001b[K\n",
            "remote: Counting objects: 100% (126/126), done.\u001b[K\n",
            "remote: Compressing objects: 100% (105/105), done.\u001b[K\n",
            "remote: Total 2751 (delta 87), reused 21 (delta 21), pack-reused 2625 (from 1)\u001b[K\n",
            "Receiving objects: 100% (2751/2751), 47.27 MiB | 20.98 MiB/s, done.\n",
            "Resolving deltas: 100% (1356/1356), done.\n"
          ]
        }
      ],
      "source": [
        "!rm -rf AtomML-Course\n",
        "!git clone https://github.com/AMLS-PRG/AtomML-Course"
      ]
    },
    {
      "cell_type": "code",
      "source": [
        "pip install ase matplotlib numpy\n",
        "from ase.io.lammpsrun import read_lammps_dump\n",
        "from ase.geometry import radial_distribution_function\n",
        "import numpy as np"
      ],
      "metadata": {
        "collapsed": true,
        "id": "PMRQp_DhfP7j"
      },
      "execution_count": null,
      "outputs": []
    },
    {
      "cell_type": "code",
      "source": [
        "# --------- File paths for liquid and solid MD trajectories ---------\n",
        "file_liquid = \"AtomML-Course/module-5/04-Performing-MD-simulations/runLammps/si.lammps-dump-text\"\n",
        "file_solid  = \"AtomML-Course/module-5/04-Performing-MD-simulations/runLammps/si_solid.lammps-dump-text\"\n",
        "\n",
        "# --------- RDF settings ---------\n",
        "rdf_cutoff = 10.0  # cutoff radius in Ångströms (1 nm)\n",
        "rdf_bins = 200     # number of bins for RDF histogram\n",
        "\n",
        "# --------- Read the last 70 frames to represent the equilibrium state ---------\n",
        "frames_liquid = read_lammps_dump(file_liquid, index=slice(-700, None))\n",
        "frames_solid  = read_lammps_dump(file_solid, index=slice(-700, None))"
      ],
      "metadata": {
        "collapsed": true,
        "id": "1cqehoIqfxGv"
      },
      "execution_count": null,
      "outputs": []
    },
    {
      "cell_type": "code",
      "source": [
        "def compute_rdf(frames, cutoff, bins):\n",
        "    \"\"\"\n",
        "    Compute the average Radial Distribution Function (RDF) over multiple frames.\n",
        "\n",
        "    Parameters:\n",
        "    - frames: List of ASE Atoms objects (MD trajectory snapshots)\n",
        "    - cutoff: Maximum radius (in Å) for RDF calculation\n",
        "    - bins: Number of histogram bins between 0 and cutoff\n",
        "\n",
        "    Returns:\n",
        "    - r: Array of radius values (bin centers)\n",
        "    - avg_rdf: Averaged g(r) over all frames\n",
        "    \"\"\"\n",
        "    all_rdfs = []\n",
        "\n",
        "    for atoms in frames:\n",
        "        # Filter only atoms of type 1 (assumes LAMMPS type info in atoms.arrays[\"type\"])\n",
        "        type_mask = atoms.arrays[\"type\"] == 1\n",
        "        positions = atoms.positions[type_mask]\n",
        "        cell = atoms.get_cell()\n",
        "        pbc = atoms.get_pbc()\n",
        "\n",
        "        # Compute RDF for this frame\n",
        "        rdf, r = radial_distribution_function(\n",
        "            positions, positions, bins, cell, pbc, cutoff=cutoff\n",
        "        )\n",
        "        all_rdfs.append(rdf)\n",
        "\n",
        "    # Average over all frames\n",
        "    avg_rdf = np.mean(all_rdfs, axis=0)\n",
        "    return r, avg_rdf\n"
      ],
      "metadata": {
        "id": "WCSZV8fzj9yh"
      },
      "execution_count": null,
      "outputs": []
    },
    {
      "cell_type": "markdown",
      "source": [],
      "metadata": {
        "id": "Ru6BgzkJkB64"
      }
    },
    {
      "cell_type": "code",
      "source": [
        "# --------- Compute RDFs for both trajectories ---------\n",
        "r_liq, g_liq = compute_rdf(frames_liquid, rdf_cutoff, rdf_bins)\n",
        "r_sol, g_sol = compute_rdf(frames_solid, rdf_cutoff, rdf_bins)"
      ],
      "metadata": {
        "id": "kGZWyENYkHHG"
      },
      "execution_count": null,
      "outputs": []
    },
    {
      "cell_type": "code",
      "source": [
        "# --------- Plotting RDFs ---------\n",
        "plt.figure(figsize=(8, 5))\n",
        "plt.plot(r_liq, g_liq, label='Liquid', lw=2)\n",
        "plt.plot(r_sol, g_sol, label='Solid', lw=2)\n",
        "plt.xlabel('r (Å)', fontsize=12)\n",
        "plt.ylabel('g(r)', fontsize=12)\n",
        "plt.title('Radial Distribution Function (RDF)', fontsize=14)\n",
        "plt.legend()\n",
        "plt.grid(True)\n",
        "plt.tight_layout()\n",
        "plt.savefig(\"rdf_comparison.png\")  # Save as image file\n",
        "plt.show()"
      ],
      "metadata": {
        "id": "s250_OH7kL-Y"
      },
      "execution_count": null,
      "outputs": []
    }
  ]
}