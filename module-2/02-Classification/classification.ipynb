{
 "cells": [
  {
   "cell_type": "markdown",
   "metadata": {},
   "source": [
    "# Module 1: Basics of Machine Learning\n",
    "## Part 2: Classification\n",
    "\n",
    "In this notebook, we illustrate the application of PyTorch to classify molecules in aqueous solubility categories"
   ]
  },
  {
   "cell_type": "markdown",
   "metadata": {},
   "source": [
    "### 1. Install and load python libraries"
   ]
  },
  {
   "cell_type": "code",
   "execution_count": null,
   "metadata": {
    "id": "aISVoWwZRAkd"
   },
   "outputs": [],
   "source": [
    "!pip install torch numpy matplotlib scikit-learn pandas rdkit-pypi seaborn"
   ]
  },
  {
   "cell_type": "code",
   "execution_count": null,
   "metadata": {
    "id": "MWvwHHruRHHg"
   },
   "outputs": [],
   "source": [
    "# Required Libraries\n",
    "import torch  # PyTorch main package\n",
    "import torch.nn as nn  # Neural network modules\n",
    "import torch.optim as optim  # Optimization algorithms\n",
    "from torch.utils.data import TensorDataset, DataLoader\n",
    "import numpy as np  # Numerical computations\n",
    "import matplotlib.pyplot as plt  # Plotting library\n",
    "from sklearn.datasets import make_regression  # To generate synthetic regression data\n",
    "from sklearn.model_selection import train_test_split  # To split data into train/test sets\n",
    "from sklearn.preprocessing import StandardScaler  # To standardize data\n",
    "from sklearn.metrics import root_mean_squared_error, mean_absolute_error\n",
    "import pandas as pd # Pandas for handling input data\n",
    "from rdkit import Chem # Work with molecules\n",
    "from rdkit.Chem import Draw # Draw molecules\n",
    "from sklearn.metrics import confusion_matrix, classification_report\n",
    "import seaborn as sns"
   ]
  },
  {
   "cell_type": "markdown",
   "metadata": {},
   "source": [
    "### 2. Load and Prepare Solubility Data"
   ]
  },
  {
   "cell_type": "code",
   "execution_count": null,
   "metadata": {
    "id": "yR-4cv8lRO77"
   },
   "outputs": [],
   "source": [
    "!wget https://raw.githubusercontent.com/mcsorkun/AqSolDB/refs/heads/master/results/data_curated.csv\n",
    "data = pd.read_csv('data_curated.csv')\n",
    "# Choose some features and define X\n",
    "descriptor_names=['MolWt', 'MolLogP', 'MolMR', 'HeavyAtomCount','NumHAcceptors', 'NumHDonors', 'NumHeteroatoms', 'NumRotatableBonds','NumValenceElectrons', 'NumAromaticRings', 'NumSaturatedRings',\n",
    "       'NumAliphaticRings', 'RingCount', 'TPSA', 'LabuteASA', 'BalabanJ', 'BertzCT']\n",
    "X=data[descriptor_names].to_numpy()\n",
    "# Define y as the solubility (logS)\n",
    "solub=data['Solubility'].to_numpy()\n",
    "\n",
    "# Divide the solubility into categories\n",
    "category_names={0: \"Soluble\", 1: \"Somewhat soluble\", 2: \"Insoluble\"} \n",
    "y = np.ones(solub.shape[0])*-1\n",
    "y[solub>=-1]=0 # Soluble\n",
    "y[np.logical_and(solub>=-3,solub<-1)]=1 # Somewhat soluble\n",
    "y[solub<-3]=2 # Insoluble\n",
    "\n",
    "# Prepare the data set\n",
    "\n",
    "# Split into training and test sets (80/20)\n",
    "X_train, X_test, y_train, y_test = train_test_split(X, y, test_size=0.2, random_state=42)\n",
    "\n",
    "# Scale input features and target\n",
    "scaler_X = StandardScaler()\n",
    "X_train = scaler_X.fit_transform(X_train)\n",
    "X_test = scaler_X.transform(X_test)\n",
    "\n",
    "# Convert to PyTorch tensors\n",
    "X_train = torch.FloatTensor(X_train)\n",
    "X_test = torch.FloatTensor(X_test)\n",
    "y_train = torch.LongTensor(y_train)\n",
    "y_test = torch.LongTensor(y_test)"
   ]
  },
  {
   "cell_type": "markdown",
   "metadata": {},
   "source": [
    "### 3. Define Machine Learning Setup (Neural Network Model, Loss, Optimizer)"
   ]
  },
  {
   "cell_type": "code",
   "execution_count": null,
   "metadata": {
    "id": "kaCXRzo9RWEu"
   },
   "outputs": [],
   "source": [
    "# ------------------------------\n",
    "# 3. Define the neural network with a switch for PReLU or Tanh\n",
    "# ------------------------------\n",
    "class ClassificationNN(nn.Module):\n",
    "    def __init__(self, input_size, num_classes):\n",
    "        \"\"\"\n",
    "        Initialize the model with the specified activation function.\n",
    "        :param input_size: The size of the input features.\n",
    "        :param num_classes: The number of output classes.\n",
    "        :param activation_func: Choose \"PReLU\" or \"Tanh\" as the activation function.\n",
    "        \"\"\"\n",
    "        super(ClassificationNN, self).__init__()\n",
    "        self.fc1 = nn.Linear(input_size, 64)\n",
    "        self.fc2 = nn.Linear(64, 32)\n",
    "        self.fc3 = nn.Linear(32, num_classes)  # Output layer (no activation, use CrossEntropyLoss)\n",
    "        self.dropout = nn.Dropout(0.0)  # Dropout for regularization\n",
    "        self.activation = nn.ReLU()  # PReLU activation function\n",
    "\n",
    "    def forward(self, x):\n",
    "        x = self.activation(self.fc1(x))  # First layer with activation\n",
    "        x = self.dropout(x)\n",
    "        x = self.activation(self.fc2(x))  # Second layer with activation\n",
    "        x = self.dropout(x)\n",
    "        x = self.fc3(x)                   # Output layer (logits)\n",
    "        return x"
   ]
  },
  {
   "cell_type": "code",
   "execution_count": null,
   "metadata": {
    "id": "UZLjFqPGRYkE"
   },
   "outputs": [],
   "source": [
    "# ------------------------------\n",
    "# 4. Initialize model, loss, optimizer\n",
    "# ------------------------------\n",
    "input_size = X_train.shape[1]\n",
    "num_classes = len(torch.unique(y_train))\n",
    "\n",
    "model = ClassificationNN(input_size, num_classes)\n",
    "\n",
    "# Loss Function: CrossEntropyLoss includes LogSoftmax internally\n",
    "criterion = nn.CrossEntropyLoss()\n",
    "\n",
    "# Optimizer: Adam\n",
    "optimizer = optim.Adam(model.parameters(), lr=0.001)"
   ]
  },
  {
   "cell_type": "markdown",
   "metadata": {},
   "source": [
    "### 4. Train the Model"
   ]
  },
  {
   "cell_type": "code",
   "execution_count": null,
   "metadata": {
    "id": "M21TCR7cRarV"
   },
   "outputs": [],
   "source": [
    "epochs = 200\n",
    "train_losses, test_losses = [], []\n",
    "train_accuracies, test_accuracies = [], []\n",
    "\n",
    "for epoch in range(epochs):\n",
    "    model.train()\n",
    "    optimizer.zero_grad()\n",
    "    outputs = model(X_train)\n",
    "    loss = criterion(outputs, y_train)\n",
    "    loss.backward()\n",
    "    optimizer.step()\n",
    "    train_losses.append(loss.item())\n",
    "\n",
    "    _, predicted = torch.max(outputs, 1)\n",
    "    correct = (predicted == y_train).sum().item()\n",
    "    train_accuracies.append(correct / len(y_train))\n",
    "\n",
    "    model.eval()\n",
    "    with torch.no_grad():\n",
    "        test_outputs = model(X_test)\n",
    "        test_loss = criterion(test_outputs, y_test)\n",
    "        test_losses.append(test_loss.item())\n",
    "\n",
    "        _, test_pred = torch.max(test_outputs, 1)\n",
    "        correct_test = (test_pred == y_test).sum().item()\n",
    "        test_accuracies.append(correct_test / len(y_test))\n",
    "\n",
    "    if (epoch + 1) % 1 == 0:\n",
    "        print(f\"Epoch [{epoch+1}/{epochs}] \"\n",
    "              f\"Train Loss: {loss.item():.4f}, Test Loss: {test_loss.item():.4f} \"\n",
    "              f\"| Train Acc: {train_accuracies[-1]:.4f}, Test Acc: {test_accuracies[-1]:.4f}\")"
   ]
  },
  {
   "cell_type": "code",
   "execution_count": null,
   "metadata": {
    "colab": {
     "base_uri": "https://localhost:8080/",
     "height": 494
    },
    "id": "SbC5XwmSRct0",
    "outputId": "48dc4160-66be-4ce9-a60d-4cee015f194d"
   },
   "outputs": [],
   "source": [
    "# ------------------------------\n",
    "# 6. Plot Loss and Accuracy\n",
    "# ------------------------------\n",
    "plt.figure(figsize=(12, 5))\n",
    "plt.subplot(1, 2, 1)\n",
    "plt.plot(train_losses, label='Train Loss')\n",
    "plt.plot(test_losses, label='Test Loss')\n",
    "plt.xlabel('Epoch')\n",
    "plt.ylabel('Loss')\n",
    "plt.legend()\n",
    "plt.title('Loss over Epochs')\n",
    "\n",
    "plt.subplot(1, 2, 2)\n",
    "plt.plot(train_accuracies, label='Train Accuracy')\n",
    "plt.plot(test_accuracies, label='Test Accuracy')\n",
    "plt.xlabel('Epoch')\n",
    "plt.ylabel('Accuracy')\n",
    "plt.legend()\n",
    "plt.title('Accuracy over Epochs')\n",
    "plt.tight_layout()\n",
    "plt.show()"
   ]
  },
  {
   "cell_type": "markdown",
   "metadata": {},
   "source": [
    "# 5. Classification Report and Confusion Matrix"
   ]
  },
  {
   "cell_type": "code",
   "execution_count": null,
   "metadata": {
    "colab": {
     "base_uri": "https://localhost:8080/",
     "height": 956
    },
    "id": "lNZO-jVERgZn",
    "outputId": "66f330e5-4e86-4c6e-c2d8-209728ad6f44"
   },
   "outputs": [],
   "source": [
    "model.eval()\n",
    "with torch.no_grad():\n",
    "    y_pred = model(X_test)\n",
    "    _, y_pred = torch.max(y_pred, 1)\n",
    "\n",
    "print(\"\\nClassification Report:\")\n",
    "print(classification_report(y_test, y_pred))\n",
    "\n",
    "cm = confusion_matrix(y_test, y_pred)\n",
    "plt.figure(figsize=(8, 6))\n",
    "sns.heatmap(cm, annot=True, fmt='d', cmap='Blues')\n",
    "plt.xlabel('Predicted')\n",
    "plt.ylabel('Actual')\n",
    "plt.title('Confusion Matrix')\n",
    "plt.show()"
   ]
  },
  {
   "cell_type": "markdown",
   "metadata": {},
   "source": [
    "# 6. Test predictions"
   ]
  },
  {
   "cell_type": "code",
   "execution_count": null,
   "metadata": {},
   "outputs": [],
   "source": [
    "# Try octane, benzene, ethanol, acetic acid\n",
    "compound_name=\"benzene\"\n",
    "compound_index=np.where(data['Name']==compound_name)[0][0]"
   ]
  },
  {
   "cell_type": "code",
   "execution_count": null,
   "metadata": {},
   "outputs": [],
   "source": [
    "data[data['Name']==compound_name]"
   ]
  },
  {
   "cell_type": "code",
   "execution_count": null,
   "metadata": {},
   "outputs": [],
   "source": [
    "# Visualize molecules in the data set\n",
    "s = data['SMILES'][compound_index]\n",
    "mol = Chem.MolFromSmiles(s)\n",
    "Draw.MolToImage(mol)"
   ]
  },
  {
   "cell_type": "code",
   "execution_count": null,
   "metadata": {},
   "outputs": [],
   "source": [
    "with torch.no_grad():\n",
    "    X_example=scaler_X.transform(X[compound_index].reshape(1,-1))\n",
    "    _, compound_class = torch.max(model(torch.FloatTensor(X_example)),1)\n",
    "    print(category_names[compound_class.item()])"
   ]
  },
  {
   "cell_type": "code",
   "execution_count": null,
   "metadata": {},
   "outputs": [],
   "source": []
  }
 ],
 "metadata": {
  "kernelspec": {
   "display_name": "Python 3 (ipykernel)",
   "language": "python",
   "name": "python3"
  },
  "language_info": {
   "codemirror_mode": {
    "name": "ipython",
    "version": 3
   },
   "file_extension": ".py",
   "mimetype": "text/x-python",
   "name": "python",
   "nbconvert_exporter": "python",
   "pygments_lexer": "ipython3",
   "version": "3.11.7"
  }
 },
 "nbformat": 4,
 "nbformat_minor": 4
}
