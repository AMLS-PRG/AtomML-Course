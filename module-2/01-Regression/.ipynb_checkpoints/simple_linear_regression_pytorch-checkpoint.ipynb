{
 "cells": [
  {
   "cell_type": "markdown",
   "metadata": {},
   "source": [
    "# Module 1: Basics of Machine Learning\n",
    "## Part 1: Regression\n",
    "\n",
    "In this notebook, we illustrate the application of PyTorch to regress the aqueous solubility of different molecules using a neural network model."
   ]
  },
  {
   "cell_type": "markdown",
   "metadata": {},
   "source": [
    "### 1. Install and load python libraries"
   ]
  },
  {
   "cell_type": "code",
   "execution_count": null,
   "metadata": {
    "id": "aISVoWwZRAkd"
   },
   "outputs": [],
   "source": [
    "!pip install torch numpy matplotlib scikit-learn pandas rdkit-pypi"
   ]
  },
  {
   "cell_type": "code",
   "execution_count": null,
   "metadata": {
    "id": "MWvwHHruRHHg"
   },
   "outputs": [],
   "source": [
    "# 1. Required Libraries\n",
    "import torch  # PyTorch main package\n",
    "import torch.nn as nn  # Neural network modules\n",
    "import torch.optim as optim  # Optimization algorithms\n",
    "import numpy as np  # Numerical computations\n",
    "import matplotlib.pyplot as plt  # Plotting library\n",
    "from sklearn.datasets import make_regression  # To generate synthetic regression data\n",
    "from sklearn.model_selection import train_test_split  # To split data into train/test sets\n",
    "from sklearn.preprocessing import StandardScaler  # To standardize data\n",
    "from sklearn.metrics import root_mean_squared_error, mean_absolute_error\n",
    "import pandas as pd # Pandas for handling input data\n",
    "from rdkit import Chem # Work with molecules\n",
    "from rdkit.Chem import Draw # Draw molecules"
   ]
  },
  {
   "cell_type": "markdown",
   "metadata": {},
   "source": [
    "### 2. Load and Prepare Solubility Data"
   ]
  },
  {
   "cell_type": "code",
   "execution_count": null,
   "metadata": {},
   "outputs": [],
   "source": [
    "!wget https://raw.githubusercontent.com/mcsorkun/AqSolDB/refs/heads/master/results/data_curated.csv\n",
    "data = pd.read_csv('data_curated.csv',nrows=1000)"
   ]
  },
  {
   "cell_type": "code",
   "execution_count": null,
   "metadata": {},
   "outputs": [],
   "source": [
    "# Visualize molecules in the data set\n",
    "smiles_list = data['SMILES'][0:10]\n",
    "mols = [Chem.MolFromSmiles(s) for s in smiles_list]\n",
    "Draw.MolsToGridImage(mols, molsPerRow=5)"
   ]
  },
  {
   "cell_type": "code",
   "execution_count": null,
   "metadata": {},
   "outputs": [],
   "source": [
    "# Choose some features and define X\n",
    "descriptor_names=['MolWt', 'MolLogP', 'MolMR', 'HeavyAtomCount','NumHAcceptors', 'NumHDonors', 'NumHeteroatoms', 'NumRotatableBonds','NumValenceElectrons', 'NumAromaticRings', 'NumSaturatedRings',\n",
    "       'NumAliphaticRings', 'RingCount', 'TPSA', 'LabuteASA', 'BalabanJ', 'BertzCT']\n",
    "X=data[descriptor_names].to_numpy()\n",
    "# Define y as the solubility (logS)\n",
    "y=data['Solubility'].to_numpy()"
   ]
  },
  {
   "cell_type": "code",
   "execution_count": null,
   "metadata": {
    "colab": {
     "base_uri": "https://localhost:8080/",
     "height": 410
    },
    "id": "yR-4cv8lRO77",
    "outputId": "4ff06c95-1625-4de6-fa7a-1b3d32fd51af"
   },
   "outputs": [],
   "source": [
    "# Prepare the data set\n",
    "y = y.reshape(-1, 1)  # Make y a column vector\n",
    "\n",
    "# Split into training and test sets (80/20)\n",
    "X_train, X_test, y_train, y_test = train_test_split(X, y, test_size=0.2, random_state=42)\n",
    "\n",
    "# Scale input features and target\n",
    "scaler_X = StandardScaler()\n",
    "X_train = scaler_X.fit_transform(X_train)\n",
    "X_test = scaler_X.transform(X_test)\n",
    "\n",
    "scaler_y = StandardScaler()\n",
    "y_train = scaler_y.fit_transform(y_train)\n",
    "y_test = scaler_y.transform(y_test)\n",
    "\n",
    "# Convert to PyTorch tensors\n",
    "X_train = torch.FloatTensor(X_train)\n",
    "X_test = torch.FloatTensor(X_test)\n",
    "y_train = torch.FloatTensor(y_train)\n",
    "y_test = torch.FloatTensor(y_test)\n",
    "\n",
    "# Show\n",
    "plt.figure(figsize=(6, 4))\n",
    "plt.scatter(X[:, descriptor_names.index(\"MolWt\")], y, alpha=0.5)\n",
    "plt.xlabel('Feature')\n",
    "plt.ylabel('Solubility')\n",
    "plt.title('Scatter Plot of One Input Feature vs Solubility')\n",
    "plt.grid(True)\n",
    "plt.legend()\n",
    "plt.show()"
   ]
  },
  {
   "cell_type": "markdown",
   "metadata": {},
   "source": [
    "### 3. Define Machine Learning Setup (Neural Network Model, Loss, Optimizer)"
   ]
  },
  {
   "cell_type": "code",
   "execution_count": null,
   "metadata": {
    "id": "kaCXRzo9RWEu"
   },
   "outputs": [],
   "source": [
    "class RegressionNN(nn.Module):\n",
    "    def __init__(self, input_size):\n",
    "        super(RegressionNN, self).__init__()\n",
    "\n",
    "        # Define layers explicitly\n",
    "        self.layer1 = nn.Linear(input_size, 64)\n",
    "        self.activation1 = nn.ReLU()\n",
    "\n",
    "        self.layer2 = nn.Linear(64, 32)\n",
    "        self.activation2 = nn.ReLU()\n",
    "\n",
    "        self.output_layer = nn.Linear(32, 1)  # No activation here (regression)\n",
    "\n",
    "    def forward(self, x):\n",
    "        x = self.activation1(self.layer1(x))\n",
    "        x = self.activation2(self.layer2(x))\n",
    "        x = self.output_layer(x)\n",
    "        return x"
   ]
  },
  {
   "cell_type": "code",
   "execution_count": null,
   "metadata": {
    "id": "UZLjFqPGRYkE"
   },
   "outputs": [],
   "source": [
    "# Instantiate Model\n",
    "input_size = X_train.shape[1]\n",
    "model = RegressionNN(input_size)\n",
    "\n",
    "# Define Loss Function (MSE for regression)\n",
    "criterion = nn.MSELoss()\n",
    "\n",
    "# Define Optimizer (Adam with learning rate)\n",
    "optimizer = optim.Adam(model.parameters(), lr=0.001)"
   ]
  },
  {
   "cell_type": "markdown",
   "metadata": {
    "colab": {
     "base_uri": "https://localhost:8080/"
    },
    "id": "M21TCR7cRarV",
    "outputId": "f5f885f9-3fd1-4122-9412-8b627d07a23e"
   },
   "source": [
    "### 4. Train the Model"
   ]
  },
  {
   "cell_type": "code",
   "execution_count": null,
   "metadata": {
    "colab": {
     "base_uri": "https://localhost:8080/"
    },
    "id": "M21TCR7cRarV",
    "outputId": "f5f885f9-3fd1-4122-9412-8b627d07a23e"
   },
   "outputs": [],
   "source": [
    "epochs = 200\n",
    "train_losses = []\n",
    "test_losses = []\n",
    "\n",
    "for epoch in range(epochs):\n",
    "    # --------- Training ---------\n",
    "    model.train()\n",
    "    optimizer.zero_grad()                 # Clear gradients\n",
    "    predictions = model(X_train)         # Forward pass\n",
    "    loss = criterion(predictions, y_train)  # Compute loss\n",
    "    loss.backward()                      # Backpropagation\n",
    "    optimizer.step()                     # Update weights\n",
    "    train_losses.append(loss.item())\n",
    "\n",
    "    # --------- Testing ---------\n",
    "    model.eval()\n",
    "    with torch.no_grad():\n",
    "        test_preds = model(X_test)\n",
    "        test_loss = criterion(test_preds, y_test)\n",
    "        test_losses.append(test_loss.item())\n",
    "\n",
    "    # Print every 20 epochs\n",
    "    if (epoch + 1) % 20 == 0:\n",
    "        print(f\"Epoch [{epoch+1}/{epochs}], Train Loss: {loss.item():.4f}, Test Loss: {test_loss.item():.4f}\")"
   ]
  },
  {
   "cell_type": "code",
   "execution_count": null,
   "metadata": {
    "colab": {
     "base_uri": "https://localhost:8080/",
     "height": 487
    },
    "id": "SbC5XwmSRct0",
    "outputId": "a2a8364a-ac98-4e73-a12b-25c34569ed49"
   },
   "outputs": [],
   "source": [
    "# Plot Training and Test Loss\n",
    "plt.figure(figsize=(8, 5))\n",
    "plt.plot(train_losses, label='Train Loss')\n",
    "plt.plot(test_losses, label='Test Loss')\n",
    "plt.xlabel('Epoch')\n",
    "plt.ylabel('Loss (MSE)')\n",
    "plt.legend()\n",
    "plt.title('Training and Test Loss Over Epochs')\n",
    "plt.grid(True)\n",
    "plt.show()"
   ]
  },
  {
   "cell_type": "markdown",
   "metadata": {
    "colab": {
     "base_uri": "https://localhost:8080/",
     "height": 695
    },
    "id": "lNZO-jVERgZn",
    "outputId": "df46bad2-37f7-45d7-998d-628ef8f88b11"
   },
   "source": [
    "# 5. Make and Visualize Predictions"
   ]
  },
  {
   "cell_type": "code",
   "execution_count": null,
   "metadata": {
    "colab": {
     "base_uri": "https://localhost:8080/",
     "height": 695
    },
    "id": "lNZO-jVERgZn",
    "outputId": "df46bad2-37f7-45d7-998d-628ef8f88b11"
   },
   "outputs": [],
   "source": [
    "model.eval()\n",
    "with torch.no_grad():\n",
    "    y_pred_all = model(X_test).numpy()\n",
    "    y_actual_all = y_test.numpy()\n",
    "\n",
    "y_pred_all = scaler_y.inverse_transform(y_pred_all)\n",
    "y_actual_all = scaler_y.inverse_transform(y_actual_all)"
   ]
  },
  {
   "cell_type": "code",
   "execution_count": null,
   "metadata": {},
   "outputs": [],
   "source": [
    "# Compute MAE and RMSE\n",
    "mae = mean_absolute_error(y_actual_all, y_pred_all)\n",
    "rmse = root_mean_squared_error(y_actual_all, y_pred_all)\n",
    "print(\"Mean Absolute Error (MAE) is: \", mae)\n",
    "print(\"Root Mean Squared Error (MAE) is: \", rmse)"
   ]
  },
  {
   "cell_type": "code",
   "execution_count": null,
   "metadata": {
    "colab": {
     "base_uri": "https://localhost:8080/",
     "height": 695
    },
    "id": "lNZO-jVERgZn",
    "outputId": "df46bad2-37f7-45d7-998d-628ef8f88b11"
   },
   "outputs": [],
   "source": [
    "# Plotting\n",
    "plt.figure(figsize=(6,6))\n",
    "plt.scatter(y_actual_all, y_pred_all, alpha=0.5)\n",
    "plt.plot([y_actual_all.min(), y_actual_all.max()],\n",
    "         [y_actual_all.min(), y_actual_all.max()], 'r--')\n",
    "plt.xlim([y_actual_all.min(), y_actual_all.max()])\n",
    "plt.ylim([y_actual_all.min(), y_actual_all.max()])\n",
    "plt.xlabel(\"Actual Values\")\n",
    "plt.ylabel(\"Predicted Values\")\n",
    "plt.title(\"Predicted vs Actual Solubility (Test Set)\")\n",
    "plt.grid(True)\n",
    "plt.show()"
   ]
  },
  {
   "cell_type": "code",
   "execution_count": null,
   "metadata": {},
   "outputs": [],
   "source": [
    "# Plotting\n",
    "plt.figure(figsize=(6,6))\n",
    "plt.hist(y_actual_all- y_pred_all, alpha=0.8, range=(-8,8),bins=25)\n",
    "#plt.plot([y_actual_all.min(), y_actual_all.max()],\n",
    "#         [y_actual_all.min(), y_actual_all.max()], 'r--')\n",
    "plt.xlabel(\"Actual Values\")\n",
    "plt.ylabel(\"Predicted Values\")\n",
    "plt.title(\"Solubility error histogram (Test Set)\")\n",
    "plt.grid(True)\n",
    "plt.show()"
   ]
  },
  {
   "cell_type": "code",
   "execution_count": null,
   "metadata": {},
   "outputs": [],
   "source": [
    "# Use gradients to estimate feature importance\n",
    "model.eval()\n",
    "X_test.requires_grad = True\n",
    "output = model(X_test)\n",
    "output.mean().backward()\n",
    "\n",
    "# Feature importance = average of absolute gradients across samples\n",
    "feature_importance = X_test.grad.abs().mean(dim=0)\n",
    "\n",
    "print(\"Feature Importance:\", feature_importance)"
   ]
  },
  {
   "cell_type": "code",
   "execution_count": null,
   "metadata": {},
   "outputs": [],
   "source": [
    "plt.figure(figsize=(6,6))\n",
    "plt.barh(descriptor_names,feature_importance/torch.max(feature_importance))\n",
    "plt.title(\"Feature importance (Test set)\")\n",
    "plt.xlabel(\"Feature importance\")\n",
    "#plt.xticks(rotation=90)\n",
    "plt.show()"
   ]
  },
  {
   "cell_type": "code",
   "execution_count": null,
   "metadata": {},
   "outputs": [],
   "source": []
  }
 ],
 "metadata": {
  "colab": {
   "name": "欢迎使用 Colab",
   "provenance": []
  },
  "kernelspec": {
   "display_name": "Python 3 (ipykernel)",
   "language": "python",
   "name": "python3"
  },
  "language_info": {
   "codemirror_mode": {
    "name": "ipython",
    "version": 3
   },
   "file_extension": ".py",
   "mimetype": "text/x-python",
   "name": "python",
   "nbconvert_exporter": "python",
   "pygments_lexer": "ipython3",
   "version": "3.11.7"
  }
 },
 "nbformat": 4,
 "nbformat_minor": 4
}
